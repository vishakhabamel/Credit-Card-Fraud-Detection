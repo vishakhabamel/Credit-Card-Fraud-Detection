{
 "cells": [
  {
   "cell_type": "code",
   "execution_count": 1,
   "metadata": {
    "id": "laKUAeU--Ufj"
   },
   "outputs": [],
   "source": [
    "import pandas as pd\n",
    "import numpy as np\n",
    "import matplotlib.pyplot as plt\n",
    "%matplotlib inline\n",
    "import seaborn as sns\n",
    "import warnings\n",
    "warnings.filterwarnings('ignore')\n",
    "from sklearn import datasets\n",
    "from sklearn.model_selection import train_test_split"
   ]
  },
  {
   "cell_type": "code",
   "execution_count": 2,
   "metadata": {
    "colab": {
     "base_uri": "https://localhost:8080/"
    },
    "executionInfo": {
     "elapsed": 12876,
     "status": "ok",
     "timestamp": 1656705398158,
     "user": {
      "displayName": "ankit choudhary",
      "userId": "09081165373969276505"
     },
     "user_tz": -330
    },
    "id": "pUUx_KYFh_Ou",
    "outputId": "6ab74ad9-33ea-462e-8985-3a417d645012"
   },
   "outputs": [],
   "source": [
    "df1=pd.read_csv(\"fraudTrain.csv\")\n",
    "df2=pd.read_csv(\"fraudTest.csv\")"
   ]
  },
  {
   "cell_type": "code",
   "execution_count": 3,
   "metadata": {
    "colab": {
     "base_uri": "https://localhost:8080/"
    },
    "executionInfo": {
     "elapsed": 842,
     "status": "ok",
     "timestamp": 1656705398980,
     "user": {
      "displayName": "ankit choudhary",
      "userId": "09081165373969276505"
     },
     "user_tz": -330
    },
    "id": "AwEDhZEpYo6w",
    "outputId": "b79d3e51-3cfa-4658-862f-ddbeb12f8a23"
   },
   "outputs": [
    {
     "name": "stdout",
     "output_type": "stream",
     "text": [
      "<class 'pandas.core.frame.DataFrame'>\n",
      "RangeIndex: 1296675 entries, 0 to 1296674\n",
      "Data columns (total 23 columns):\n",
      " #   Column                 Non-Null Count    Dtype  \n",
      "---  ------                 --------------    -----  \n",
      " 0   Unnamed: 0             1296675 non-null  int64  \n",
      " 1   trans_date_trans_time  1296675 non-null  object \n",
      " 2   cc_num                 1296675 non-null  int64  \n",
      " 3   merchant               1296675 non-null  object \n",
      " 4   category               1296675 non-null  object \n",
      " 5   amt                    1296675 non-null  float64\n",
      " 6   first                  1296675 non-null  object \n",
      " 7   last                   1296675 non-null  object \n",
      " 8   gender                 1296675 non-null  object \n",
      " 9   street                 1296675 non-null  object \n",
      " 10  city                   1296675 non-null  object \n",
      " 11  state                  1296675 non-null  object \n",
      " 12  zip                    1296675 non-null  int64  \n",
      " 13  lat                    1296675 non-null  float64\n",
      " 14  long                   1296675 non-null  float64\n",
      " 15  city_pop               1296675 non-null  int64  \n",
      " 16  job                    1296675 non-null  object \n",
      " 17  dob                    1296675 non-null  object \n",
      " 18  trans_num              1296675 non-null  object \n",
      " 19  unix_time              1296675 non-null  int64  \n",
      " 20  merch_lat              1296675 non-null  float64\n",
      " 21  merch_long             1296675 non-null  float64\n",
      " 22  is_fraud               1296675 non-null  int64  \n",
      "dtypes: float64(5), int64(6), object(12)\n",
      "memory usage: 227.5+ MB\n",
      "None\n",
      "<class 'pandas.core.frame.DataFrame'>\n",
      "RangeIndex: 555719 entries, 0 to 555718\n",
      "Data columns (total 23 columns):\n",
      " #   Column                 Non-Null Count   Dtype  \n",
      "---  ------                 --------------   -----  \n",
      " 0   Unnamed: 0             555719 non-null  int64  \n",
      " 1   trans_date_trans_time  555719 non-null  object \n",
      " 2   cc_num                 555719 non-null  int64  \n",
      " 3   merchant               555719 non-null  object \n",
      " 4   category               555719 non-null  object \n",
      " 5   amt                    555719 non-null  float64\n",
      " 6   first                  555719 non-null  object \n",
      " 7   last                   555719 non-null  object \n",
      " 8   gender                 555719 non-null  object \n",
      " 9   street                 555719 non-null  object \n",
      " 10  city                   555719 non-null  object \n",
      " 11  state                  555719 non-null  object \n",
      " 12  zip                    555719 non-null  int64  \n",
      " 13  lat                    555719 non-null  float64\n",
      " 14  long                   555719 non-null  float64\n",
      " 15  city_pop               555719 non-null  int64  \n",
      " 16  job                    555719 non-null  object \n",
      " 17  dob                    555719 non-null  object \n",
      " 18  trans_num              555719 non-null  object \n",
      " 19  unix_time              555719 non-null  int64  \n",
      " 20  merch_lat              555719 non-null  float64\n",
      " 21  merch_long             555719 non-null  float64\n",
      " 22  is_fraud               555719 non-null  int64  \n",
      "dtypes: float64(5), int64(6), object(12)\n",
      "memory usage: 97.5+ MB\n",
      "None\n"
     ]
    }
   ],
   "source": [
    "print(df1.info())\n",
    "print(df2.info())\n",
    "#30.00"
   ]
  },
  {
   "cell_type": "code",
   "execution_count": 4,
   "metadata": {
    "colab": {
     "base_uri": "https://localhost:8080/",
     "height": 904
    },
    "executionInfo": {
     "elapsed": 876,
     "status": "ok",
     "timestamp": 1656705399854,
     "user": {
      "displayName": "ankit choudhary",
      "userId": "09081165373969276505"
     },
     "user_tz": -330
    },
    "id": "GwPAAkE179tZ",
    "outputId": "bffc5597-826c-4e3b-b03f-e65342ab3033"
   },
   "outputs": [
    {
     "data": {
      "text/html": [
       "<div>\n",
       "<style scoped>\n",
       "    .dataframe tbody tr th:only-of-type {\n",
       "        vertical-align: middle;\n",
       "    }\n",
       "\n",
       "    .dataframe tbody tr th {\n",
       "        vertical-align: top;\n",
       "    }\n",
       "\n",
       "    .dataframe thead th {\n",
       "        text-align: right;\n",
       "    }\n",
       "</style>\n",
       "<table border=\"1\" class=\"dataframe\">\n",
       "  <thead>\n",
       "    <tr style=\"text-align: right;\">\n",
       "      <th></th>\n",
       "      <th>Unnamed: 0</th>\n",
       "      <th>trans_date_trans_time</th>\n",
       "      <th>cc_num</th>\n",
       "      <th>merchant</th>\n",
       "      <th>category</th>\n",
       "      <th>amt</th>\n",
       "      <th>first</th>\n",
       "      <th>last</th>\n",
       "      <th>gender</th>\n",
       "      <th>street</th>\n",
       "      <th>...</th>\n",
       "      <th>lat</th>\n",
       "      <th>long</th>\n",
       "      <th>city_pop</th>\n",
       "      <th>job</th>\n",
       "      <th>dob</th>\n",
       "      <th>trans_num</th>\n",
       "      <th>unix_time</th>\n",
       "      <th>merch_lat</th>\n",
       "      <th>merch_long</th>\n",
       "      <th>is_fraud</th>\n",
       "    </tr>\n",
       "  </thead>\n",
       "  <tbody>\n",
       "    <tr>\n",
       "      <th>0</th>\n",
       "      <td>0</td>\n",
       "      <td>2019-01-01 00:00:18</td>\n",
       "      <td>2703186189652095</td>\n",
       "      <td>fraud_Rippin, Kub and Mann</td>\n",
       "      <td>misc_net</td>\n",
       "      <td>4.97</td>\n",
       "      <td>Jennifer</td>\n",
       "      <td>Banks</td>\n",
       "      <td>F</td>\n",
       "      <td>561 Perry Cove</td>\n",
       "      <td>...</td>\n",
       "      <td>36.0788</td>\n",
       "      <td>-81.1781</td>\n",
       "      <td>3495</td>\n",
       "      <td>Psychologist, counselling</td>\n",
       "      <td>1988-03-09</td>\n",
       "      <td>0b242abb623afc578575680df30655b9</td>\n",
       "      <td>1325376018</td>\n",
       "      <td>36.011293</td>\n",
       "      <td>-82.048315</td>\n",
       "      <td>0</td>\n",
       "    </tr>\n",
       "    <tr>\n",
       "      <th>1</th>\n",
       "      <td>1</td>\n",
       "      <td>2019-01-01 00:00:44</td>\n",
       "      <td>630423337322</td>\n",
       "      <td>fraud_Heller, Gutmann and Zieme</td>\n",
       "      <td>grocery_pos</td>\n",
       "      <td>107.23</td>\n",
       "      <td>Stephanie</td>\n",
       "      <td>Gill</td>\n",
       "      <td>F</td>\n",
       "      <td>43039 Riley Greens Suite 393</td>\n",
       "      <td>...</td>\n",
       "      <td>48.8878</td>\n",
       "      <td>-118.2105</td>\n",
       "      <td>149</td>\n",
       "      <td>Special educational needs teacher</td>\n",
       "      <td>1978-06-21</td>\n",
       "      <td>1f76529f8574734946361c461b024d99</td>\n",
       "      <td>1325376044</td>\n",
       "      <td>49.159047</td>\n",
       "      <td>-118.186462</td>\n",
       "      <td>0</td>\n",
       "    </tr>\n",
       "    <tr>\n",
       "      <th>2</th>\n",
       "      <td>2</td>\n",
       "      <td>2019-01-01 00:00:51</td>\n",
       "      <td>38859492057661</td>\n",
       "      <td>fraud_Lind-Buckridge</td>\n",
       "      <td>entertainment</td>\n",
       "      <td>220.11</td>\n",
       "      <td>Edward</td>\n",
       "      <td>Sanchez</td>\n",
       "      <td>M</td>\n",
       "      <td>594 White Dale Suite 530</td>\n",
       "      <td>...</td>\n",
       "      <td>42.1808</td>\n",
       "      <td>-112.2620</td>\n",
       "      <td>4154</td>\n",
       "      <td>Nature conservation officer</td>\n",
       "      <td>1962-01-19</td>\n",
       "      <td>a1a22d70485983eac12b5b88dad1cf95</td>\n",
       "      <td>1325376051</td>\n",
       "      <td>43.150704</td>\n",
       "      <td>-112.154481</td>\n",
       "      <td>0</td>\n",
       "    </tr>\n",
       "    <tr>\n",
       "      <th>3</th>\n",
       "      <td>3</td>\n",
       "      <td>2019-01-01 00:01:16</td>\n",
       "      <td>3534093764340240</td>\n",
       "      <td>fraud_Kutch, Hermiston and Farrell</td>\n",
       "      <td>gas_transport</td>\n",
       "      <td>45.00</td>\n",
       "      <td>Jeremy</td>\n",
       "      <td>White</td>\n",
       "      <td>M</td>\n",
       "      <td>9443 Cynthia Court Apt. 038</td>\n",
       "      <td>...</td>\n",
       "      <td>46.2306</td>\n",
       "      <td>-112.1138</td>\n",
       "      <td>1939</td>\n",
       "      <td>Patent attorney</td>\n",
       "      <td>1967-01-12</td>\n",
       "      <td>6b849c168bdad6f867558c3793159a81</td>\n",
       "      <td>1325376076</td>\n",
       "      <td>47.034331</td>\n",
       "      <td>-112.561071</td>\n",
       "      <td>0</td>\n",
       "    </tr>\n",
       "    <tr>\n",
       "      <th>4</th>\n",
       "      <td>4</td>\n",
       "      <td>2019-01-01 00:03:06</td>\n",
       "      <td>375534208663984</td>\n",
       "      <td>fraud_Keeling-Crist</td>\n",
       "      <td>misc_pos</td>\n",
       "      <td>41.96</td>\n",
       "      <td>Tyler</td>\n",
       "      <td>Garcia</td>\n",
       "      <td>M</td>\n",
       "      <td>408 Bradley Rest</td>\n",
       "      <td>...</td>\n",
       "      <td>38.4207</td>\n",
       "      <td>-79.4629</td>\n",
       "      <td>99</td>\n",
       "      <td>Dance movement psychotherapist</td>\n",
       "      <td>1986-03-28</td>\n",
       "      <td>a41d7549acf90789359a9aa5346dcb46</td>\n",
       "      <td>1325376186</td>\n",
       "      <td>38.674999</td>\n",
       "      <td>-78.632459</td>\n",
       "      <td>0</td>\n",
       "    </tr>\n",
       "    <tr>\n",
       "      <th>...</th>\n",
       "      <td>...</td>\n",
       "      <td>...</td>\n",
       "      <td>...</td>\n",
       "      <td>...</td>\n",
       "      <td>...</td>\n",
       "      <td>...</td>\n",
       "      <td>...</td>\n",
       "      <td>...</td>\n",
       "      <td>...</td>\n",
       "      <td>...</td>\n",
       "      <td>...</td>\n",
       "      <td>...</td>\n",
       "      <td>...</td>\n",
       "      <td>...</td>\n",
       "      <td>...</td>\n",
       "      <td>...</td>\n",
       "      <td>...</td>\n",
       "      <td>...</td>\n",
       "      <td>...</td>\n",
       "      <td>...</td>\n",
       "      <td>...</td>\n",
       "    </tr>\n",
       "    <tr>\n",
       "      <th>1852389</th>\n",
       "      <td>555714</td>\n",
       "      <td>2020-12-31 23:59:07</td>\n",
       "      <td>30560609640617</td>\n",
       "      <td>fraud_Reilly and Sons</td>\n",
       "      <td>health_fitness</td>\n",
       "      <td>43.77</td>\n",
       "      <td>Michael</td>\n",
       "      <td>Olson</td>\n",
       "      <td>M</td>\n",
       "      <td>558 Michael Estates</td>\n",
       "      <td>...</td>\n",
       "      <td>40.4931</td>\n",
       "      <td>-91.8912</td>\n",
       "      <td>519</td>\n",
       "      <td>Town planner</td>\n",
       "      <td>1966-02-13</td>\n",
       "      <td>9b1f753c79894c9f4b71f04581835ada</td>\n",
       "      <td>1388534347</td>\n",
       "      <td>39.946837</td>\n",
       "      <td>-91.333331</td>\n",
       "      <td>0</td>\n",
       "    </tr>\n",
       "    <tr>\n",
       "      <th>1852390</th>\n",
       "      <td>555715</td>\n",
       "      <td>2020-12-31 23:59:09</td>\n",
       "      <td>3556613125071656</td>\n",
       "      <td>fraud_Hoppe-Parisian</td>\n",
       "      <td>kids_pets</td>\n",
       "      <td>111.84</td>\n",
       "      <td>Jose</td>\n",
       "      <td>Vasquez</td>\n",
       "      <td>M</td>\n",
       "      <td>572 Davis Mountains</td>\n",
       "      <td>...</td>\n",
       "      <td>29.0393</td>\n",
       "      <td>-95.4401</td>\n",
       "      <td>28739</td>\n",
       "      <td>Futures trader</td>\n",
       "      <td>1999-12-27</td>\n",
       "      <td>2090647dac2c89a1d86c514c427f5b91</td>\n",
       "      <td>1388534349</td>\n",
       "      <td>29.661049</td>\n",
       "      <td>-96.186633</td>\n",
       "      <td>0</td>\n",
       "    </tr>\n",
       "    <tr>\n",
       "      <th>1852391</th>\n",
       "      <td>555716</td>\n",
       "      <td>2020-12-31 23:59:15</td>\n",
       "      <td>6011724471098086</td>\n",
       "      <td>fraud_Rau-Robel</td>\n",
       "      <td>kids_pets</td>\n",
       "      <td>86.88</td>\n",
       "      <td>Ann</td>\n",
       "      <td>Lawson</td>\n",
       "      <td>F</td>\n",
       "      <td>144 Evans Islands Apt. 683</td>\n",
       "      <td>...</td>\n",
       "      <td>46.1966</td>\n",
       "      <td>-118.9017</td>\n",
       "      <td>3684</td>\n",
       "      <td>Musician</td>\n",
       "      <td>1981-11-29</td>\n",
       "      <td>6c5b7c8add471975aa0fec023b2e8408</td>\n",
       "      <td>1388534355</td>\n",
       "      <td>46.658340</td>\n",
       "      <td>-119.715054</td>\n",
       "      <td>0</td>\n",
       "    </tr>\n",
       "    <tr>\n",
       "      <th>1852392</th>\n",
       "      <td>555717</td>\n",
       "      <td>2020-12-31 23:59:24</td>\n",
       "      <td>4079773899158</td>\n",
       "      <td>fraud_Breitenberg LLC</td>\n",
       "      <td>travel</td>\n",
       "      <td>7.99</td>\n",
       "      <td>Eric</td>\n",
       "      <td>Preston</td>\n",
       "      <td>M</td>\n",
       "      <td>7020 Doyle Stream Apt. 951</td>\n",
       "      <td>...</td>\n",
       "      <td>44.6255</td>\n",
       "      <td>-116.4493</td>\n",
       "      <td>129</td>\n",
       "      <td>Cartographer</td>\n",
       "      <td>1965-12-15</td>\n",
       "      <td>14392d723bb7737606b2700ac791b7aa</td>\n",
       "      <td>1388534364</td>\n",
       "      <td>44.470525</td>\n",
       "      <td>-117.080888</td>\n",
       "      <td>0</td>\n",
       "    </tr>\n",
       "    <tr>\n",
       "      <th>1852393</th>\n",
       "      <td>555718</td>\n",
       "      <td>2020-12-31 23:59:34</td>\n",
       "      <td>4170689372027579</td>\n",
       "      <td>fraud_Dare-Marvin</td>\n",
       "      <td>entertainment</td>\n",
       "      <td>38.13</td>\n",
       "      <td>Samuel</td>\n",
       "      <td>Frey</td>\n",
       "      <td>M</td>\n",
       "      <td>830 Myers Plaza Apt. 384</td>\n",
       "      <td>...</td>\n",
       "      <td>35.6665</td>\n",
       "      <td>-97.4798</td>\n",
       "      <td>116001</td>\n",
       "      <td>Media buyer</td>\n",
       "      <td>1993-05-10</td>\n",
       "      <td>1765bb45b3aa3224b4cdcb6e7a96cee3</td>\n",
       "      <td>1388534374</td>\n",
       "      <td>36.210097</td>\n",
       "      <td>-97.036372</td>\n",
       "      <td>0</td>\n",
       "    </tr>\n",
       "  </tbody>\n",
       "</table>\n",
       "<p>1852394 rows × 23 columns</p>\n",
       "</div>"
      ],
      "text/plain": [
       "         Unnamed: 0 trans_date_trans_time            cc_num  \\\n",
       "0                 0   2019-01-01 00:00:18  2703186189652095   \n",
       "1                 1   2019-01-01 00:00:44      630423337322   \n",
       "2                 2   2019-01-01 00:00:51    38859492057661   \n",
       "3                 3   2019-01-01 00:01:16  3534093764340240   \n",
       "4                 4   2019-01-01 00:03:06   375534208663984   \n",
       "...             ...                   ...               ...   \n",
       "1852389      555714   2020-12-31 23:59:07    30560609640617   \n",
       "1852390      555715   2020-12-31 23:59:09  3556613125071656   \n",
       "1852391      555716   2020-12-31 23:59:15  6011724471098086   \n",
       "1852392      555717   2020-12-31 23:59:24     4079773899158   \n",
       "1852393      555718   2020-12-31 23:59:34  4170689372027579   \n",
       "\n",
       "                                   merchant        category     amt  \\\n",
       "0                fraud_Rippin, Kub and Mann        misc_net    4.97   \n",
       "1           fraud_Heller, Gutmann and Zieme     grocery_pos  107.23   \n",
       "2                      fraud_Lind-Buckridge   entertainment  220.11   \n",
       "3        fraud_Kutch, Hermiston and Farrell   gas_transport   45.00   \n",
       "4                       fraud_Keeling-Crist        misc_pos   41.96   \n",
       "...                                     ...             ...     ...   \n",
       "1852389               fraud_Reilly and Sons  health_fitness   43.77   \n",
       "1852390                fraud_Hoppe-Parisian       kids_pets  111.84   \n",
       "1852391                     fraud_Rau-Robel       kids_pets   86.88   \n",
       "1852392               fraud_Breitenberg LLC          travel    7.99   \n",
       "1852393                   fraud_Dare-Marvin   entertainment   38.13   \n",
       "\n",
       "             first     last gender                        street  ...  \\\n",
       "0         Jennifer    Banks      F                561 Perry Cove  ...   \n",
       "1        Stephanie     Gill      F  43039 Riley Greens Suite 393  ...   \n",
       "2           Edward  Sanchez      M      594 White Dale Suite 530  ...   \n",
       "3           Jeremy    White      M   9443 Cynthia Court Apt. 038  ...   \n",
       "4            Tyler   Garcia      M              408 Bradley Rest  ...   \n",
       "...            ...      ...    ...                           ...  ...   \n",
       "1852389    Michael    Olson      M           558 Michael Estates  ...   \n",
       "1852390       Jose  Vasquez      M           572 Davis Mountains  ...   \n",
       "1852391        Ann   Lawson      F    144 Evans Islands Apt. 683  ...   \n",
       "1852392       Eric  Preston      M    7020 Doyle Stream Apt. 951  ...   \n",
       "1852393     Samuel     Frey      M      830 Myers Plaza Apt. 384  ...   \n",
       "\n",
       "             lat      long  city_pop                                job  \\\n",
       "0        36.0788  -81.1781      3495          Psychologist, counselling   \n",
       "1        48.8878 -118.2105       149  Special educational needs teacher   \n",
       "2        42.1808 -112.2620      4154        Nature conservation officer   \n",
       "3        46.2306 -112.1138      1939                    Patent attorney   \n",
       "4        38.4207  -79.4629        99     Dance movement psychotherapist   \n",
       "...          ...       ...       ...                                ...   \n",
       "1852389  40.4931  -91.8912       519                       Town planner   \n",
       "1852390  29.0393  -95.4401     28739                     Futures trader   \n",
       "1852391  46.1966 -118.9017      3684                           Musician   \n",
       "1852392  44.6255 -116.4493       129                       Cartographer   \n",
       "1852393  35.6665  -97.4798    116001                        Media buyer   \n",
       "\n",
       "                dob                         trans_num   unix_time  merch_lat  \\\n",
       "0        1988-03-09  0b242abb623afc578575680df30655b9  1325376018  36.011293   \n",
       "1        1978-06-21  1f76529f8574734946361c461b024d99  1325376044  49.159047   \n",
       "2        1962-01-19  a1a22d70485983eac12b5b88dad1cf95  1325376051  43.150704   \n",
       "3        1967-01-12  6b849c168bdad6f867558c3793159a81  1325376076  47.034331   \n",
       "4        1986-03-28  a41d7549acf90789359a9aa5346dcb46  1325376186  38.674999   \n",
       "...             ...                               ...         ...        ...   \n",
       "1852389  1966-02-13  9b1f753c79894c9f4b71f04581835ada  1388534347  39.946837   \n",
       "1852390  1999-12-27  2090647dac2c89a1d86c514c427f5b91  1388534349  29.661049   \n",
       "1852391  1981-11-29  6c5b7c8add471975aa0fec023b2e8408  1388534355  46.658340   \n",
       "1852392  1965-12-15  14392d723bb7737606b2700ac791b7aa  1388534364  44.470525   \n",
       "1852393  1993-05-10  1765bb45b3aa3224b4cdcb6e7a96cee3  1388534374  36.210097   \n",
       "\n",
       "         merch_long  is_fraud  \n",
       "0        -82.048315         0  \n",
       "1       -118.186462         0  \n",
       "2       -112.154481         0  \n",
       "3       -112.561071         0  \n",
       "4        -78.632459         0  \n",
       "...             ...       ...  \n",
       "1852389  -91.333331         0  \n",
       "1852390  -96.186633         0  \n",
       "1852391 -119.715054         0  \n",
       "1852392 -117.080888         0  \n",
       "1852393  -97.036372         0  \n",
       "\n",
       "[1852394 rows x 23 columns]"
      ]
     },
     "execution_count": 4,
     "metadata": {},
     "output_type": "execute_result"
    }
   ],
   "source": [
    "df=df1.append(df2, ignore_index = True)\n",
    "df\n",
    "#unnamed , ttrans_date_trans_time, first,last,"
   ]
  },
  {
   "cell_type": "code",
   "execution_count": 5,
   "metadata": {
    "colab": {
     "base_uri": "https://localhost:8080/",
     "height": 681
    },
    "executionInfo": {
     "elapsed": 2177,
     "status": "ok",
     "timestamp": 1656705402509,
     "user": {
      "displayName": "ankit choudhary",
      "userId": "09081165373969276505"
     },
     "user_tz": -330
    },
    "id": "jSaEbGHiSp6f",
    "outputId": "e27019b7-2aa4-41d2-cfda-3dfbb6d72f87"
   },
   "outputs": [
    {
     "data": {
      "text/html": [
       "<div>\n",
       "<style scoped>\n",
       "    .dataframe tbody tr th:only-of-type {\n",
       "        vertical-align: middle;\n",
       "    }\n",
       "\n",
       "    .dataframe tbody tr th {\n",
       "        vertical-align: top;\n",
       "    }\n",
       "\n",
       "    .dataframe thead th {\n",
       "        text-align: right;\n",
       "    }\n",
       "</style>\n",
       "<table border=\"1\" class=\"dataframe\">\n",
       "  <thead>\n",
       "    <tr style=\"text-align: right;\">\n",
       "      <th></th>\n",
       "      <th>Unnamed: 0</th>\n",
       "      <th>trans_date_trans_time</th>\n",
       "      <th>cc_num</th>\n",
       "      <th>merchant</th>\n",
       "      <th>category</th>\n",
       "      <th>amt</th>\n",
       "      <th>gender</th>\n",
       "      <th>street</th>\n",
       "      <th>city</th>\n",
       "      <th>state</th>\n",
       "      <th>zip</th>\n",
       "      <th>lat</th>\n",
       "      <th>long</th>\n",
       "      <th>city_pop</th>\n",
       "      <th>job</th>\n",
       "      <th>dob</th>\n",
       "      <th>unix_time</th>\n",
       "      <th>merch_lat</th>\n",
       "      <th>merch_long</th>\n",
       "      <th>is_fraud</th>\n",
       "    </tr>\n",
       "  </thead>\n",
       "  <tbody>\n",
       "    <tr>\n",
       "      <th>Unnamed: 0</th>\n",
       "      <td>1.000000</td>\n",
       "      <td>0.171902</td>\n",
       "      <td>0.000063</td>\n",
       "      <td>-0.001043</td>\n",
       "      <td>-0.000130</td>\n",
       "      <td>0.000949</td>\n",
       "      <td>-0.000233</td>\n",
       "      <td>-0.000273</td>\n",
       "      <td>-0.001140</td>\n",
       "      <td>0.001233</td>\n",
       "      <td>0.000370</td>\n",
       "      <td>0.000239</td>\n",
       "      <td>-0.000610</td>\n",
       "      <td>-0.000880</td>\n",
       "      <td>0.000290</td>\n",
       "      <td>0.001711</td>\n",
       "      <td>0.174527</td>\n",
       "      <td>0.000211</td>\n",
       "      <td>-0.000611</td>\n",
       "      <td>0.000524</td>\n",
       "    </tr>\n",
       "    <tr>\n",
       "      <th>trans_date_trans_time</th>\n",
       "      <td>0.171902</td>\n",
       "      <td>1.000000</td>\n",
       "      <td>0.000294</td>\n",
       "      <td>-0.000139</td>\n",
       "      <td>0.001116</td>\n",
       "      <td>-0.002413</td>\n",
       "      <td>-0.001373</td>\n",
       "      <td>-0.001464</td>\n",
       "      <td>0.000676</td>\n",
       "      <td>-0.000358</td>\n",
       "      <td>0.001048</td>\n",
       "      <td>0.000729</td>\n",
       "      <td>-0.000603</td>\n",
       "      <td>-0.001622</td>\n",
       "      <td>-0.000323</td>\n",
       "      <td>0.004245</td>\n",
       "      <td>0.999542</td>\n",
       "      <td>0.000689</td>\n",
       "      <td>-0.000601</td>\n",
       "      <td>-0.013286</td>\n",
       "    </tr>\n",
       "    <tr>\n",
       "      <th>cc_num</th>\n",
       "      <td>0.000063</td>\n",
       "      <td>0.000294</td>\n",
       "      <td>1.000000</td>\n",
       "      <td>0.000437</td>\n",
       "      <td>0.000327</td>\n",
       "      <td>0.001826</td>\n",
       "      <td>0.000333</td>\n",
       "      <td>0.045937</td>\n",
       "      <td>0.049230</td>\n",
       "      <td>-0.036305</td>\n",
       "      <td>0.041504</td>\n",
       "      <td>-0.058744</td>\n",
       "      <td>-0.048429</td>\n",
       "      <td>-0.009118</td>\n",
       "      <td>0.029930</td>\n",
       "      <td>0.002213</td>\n",
       "      <td>0.000284</td>\n",
       "      <td>-0.058415</td>\n",
       "      <td>-0.048421</td>\n",
       "      <td>-0.001125</td>\n",
       "    </tr>\n",
       "    <tr>\n",
       "      <th>merchant</th>\n",
       "      <td>-0.001043</td>\n",
       "      <td>-0.000139</td>\n",
       "      <td>0.000437</td>\n",
       "      <td>1.000000</td>\n",
       "      <td>0.031020</td>\n",
       "      <td>-0.002973</td>\n",
       "      <td>-0.001247</td>\n",
       "      <td>0.000307</td>\n",
       "      <td>-0.000731</td>\n",
       "      <td>-0.000266</td>\n",
       "      <td>0.000692</td>\n",
       "      <td>-0.001450</td>\n",
       "      <td>-0.000348</td>\n",
       "      <td>0.001281</td>\n",
       "      <td>0.000739</td>\n",
       "      <td>0.005710</td>\n",
       "      <td>-0.000169</td>\n",
       "      <td>-0.001362</td>\n",
       "      <td>-0.000353</td>\n",
       "      <td>-0.000424</td>\n",
       "    </tr>\n",
       "    <tr>\n",
       "      <th>category</th>\n",
       "      <td>-0.000130</td>\n",
       "      <td>0.001116</td>\n",
       "      <td>0.000327</td>\n",
       "      <td>0.031020</td>\n",
       "      <td>1.000000</td>\n",
       "      <td>0.029665</td>\n",
       "      <td>-0.028088</td>\n",
       "      <td>0.002361</td>\n",
       "      <td>-0.000045</td>\n",
       "      <td>0.000164</td>\n",
       "      <td>0.003013</td>\n",
       "      <td>-0.008526</td>\n",
       "      <td>-0.001406</td>\n",
       "      <td>0.009318</td>\n",
       "      <td>0.002993</td>\n",
       "      <td>0.003809</td>\n",
       "      <td>0.001043</td>\n",
       "      <td>-0.008417</td>\n",
       "      <td>-0.001404</td>\n",
       "      <td>0.019278</td>\n",
       "    </tr>\n",
       "    <tr>\n",
       "      <th>amt</th>\n",
       "      <td>0.000949</td>\n",
       "      <td>-0.002413</td>\n",
       "      <td>0.001826</td>\n",
       "      <td>-0.002973</td>\n",
       "      <td>0.029665</td>\n",
       "      <td>1.000000</td>\n",
       "      <td>0.000740</td>\n",
       "      <td>0.001296</td>\n",
       "      <td>-0.000240</td>\n",
       "      <td>0.000433</td>\n",
       "      <td>0.001979</td>\n",
       "      <td>-0.000670</td>\n",
       "      <td>-0.000735</td>\n",
       "      <td>0.004921</td>\n",
       "      <td>-0.001858</td>\n",
       "      <td>0.011501</td>\n",
       "      <td>-0.002411</td>\n",
       "      <td>-0.000613</td>\n",
       "      <td>-0.000711</td>\n",
       "      <td>0.209308</td>\n",
       "    </tr>\n",
       "    <tr>\n",
       "      <th>gender</th>\n",
       "      <td>-0.000233</td>\n",
       "      <td>-0.001373</td>\n",
       "      <td>0.000333</td>\n",
       "      <td>-0.001247</td>\n",
       "      <td>-0.028088</td>\n",
       "      <td>0.000740</td>\n",
       "      <td>1.000000</td>\n",
       "      <td>0.042402</td>\n",
       "      <td>0.016330</td>\n",
       "      <td>-0.031085</td>\n",
       "      <td>-0.066106</td>\n",
       "      <td>0.042862</td>\n",
       "      <td>0.050653</td>\n",
       "      <td>-0.028862</td>\n",
       "      <td>-0.079708</td>\n",
       "      <td>-0.012160</td>\n",
       "      <td>-0.001387</td>\n",
       "      <td>0.042621</td>\n",
       "      <td>0.050606</td>\n",
       "      <td>0.005844</td>\n",
       "    </tr>\n",
       "    <tr>\n",
       "      <th>street</th>\n",
       "      <td>-0.000273</td>\n",
       "      <td>-0.001464</td>\n",
       "      <td>0.045937</td>\n",
       "      <td>0.000307</td>\n",
       "      <td>0.002361</td>\n",
       "      <td>0.001296</td>\n",
       "      <td>0.042402</td>\n",
       "      <td>1.000000</td>\n",
       "      <td>-0.024595</td>\n",
       "      <td>0.014470</td>\n",
       "      <td>-0.054019</td>\n",
       "      <td>-0.012851</td>\n",
       "      <td>0.071712</td>\n",
       "      <td>-0.012392</td>\n",
       "      <td>-0.018591</td>\n",
       "      <td>-0.042617</td>\n",
       "      <td>-0.001480</td>\n",
       "      <td>-0.012730</td>\n",
       "      <td>0.071667</td>\n",
       "      <td>0.000589</td>\n",
       "    </tr>\n",
       "    <tr>\n",
       "      <th>city</th>\n",
       "      <td>-0.001140</td>\n",
       "      <td>0.000676</td>\n",
       "      <td>0.049230</td>\n",
       "      <td>-0.000731</td>\n",
       "      <td>-0.000045</td>\n",
       "      <td>-0.000240</td>\n",
       "      <td>0.016330</td>\n",
       "      <td>-0.024595</td>\n",
       "      <td>1.000000</td>\n",
       "      <td>-0.042611</td>\n",
       "      <td>0.075212</td>\n",
       "      <td>-0.031132</td>\n",
       "      <td>-0.067092</td>\n",
       "      <td>0.034824</td>\n",
       "      <td>0.021540</td>\n",
       "      <td>0.014806</td>\n",
       "      <td>0.000657</td>\n",
       "      <td>-0.030870</td>\n",
       "      <td>-0.067070</td>\n",
       "      <td>-0.001107</td>\n",
       "    </tr>\n",
       "    <tr>\n",
       "      <th>state</th>\n",
       "      <td>0.001233</td>\n",
       "      <td>-0.000358</td>\n",
       "      <td>-0.036305</td>\n",
       "      <td>-0.000266</td>\n",
       "      <td>0.000164</td>\n",
       "      <td>0.000433</td>\n",
       "      <td>-0.031085</td>\n",
       "      <td>0.014470</td>\n",
       "      <td>-0.042611</td>\n",
       "      <td>1.000000</td>\n",
       "      <td>-0.116563</td>\n",
       "      <td>0.213532</td>\n",
       "      <td>0.132324</td>\n",
       "      <td>-0.012633</td>\n",
       "      <td>0.043112</td>\n",
       "      <td>0.053565</td>\n",
       "      <td>-0.000331</td>\n",
       "      <td>0.212190</td>\n",
       "      <td>0.132217</td>\n",
       "      <td>-0.000252</td>\n",
       "    </tr>\n",
       "    <tr>\n",
       "      <th>zip</th>\n",
       "      <td>0.000370</td>\n",
       "      <td>0.001048</td>\n",
       "      <td>0.041504</td>\n",
       "      <td>0.000692</td>\n",
       "      <td>0.003013</td>\n",
       "      <td>0.001979</td>\n",
       "      <td>-0.066106</td>\n",
       "      <td>-0.054019</td>\n",
       "      <td>0.075212</td>\n",
       "      <td>-0.116563</td>\n",
       "      <td>1.000000</td>\n",
       "      <td>-0.114554</td>\n",
       "      <td>-0.909795</td>\n",
       "      <td>0.077601</td>\n",
       "      <td>-0.006690</td>\n",
       "      <td>-0.012518</td>\n",
       "      <td>0.001017</td>\n",
       "      <td>-0.113934</td>\n",
       "      <td>-0.908981</td>\n",
       "      <td>-0.002190</td>\n",
       "    </tr>\n",
       "    <tr>\n",
       "      <th>lat</th>\n",
       "      <td>0.000239</td>\n",
       "      <td>0.000729</td>\n",
       "      <td>-0.058744</td>\n",
       "      <td>-0.001450</td>\n",
       "      <td>-0.008526</td>\n",
       "      <td>-0.000670</td>\n",
       "      <td>0.042862</td>\n",
       "      <td>-0.012851</td>\n",
       "      <td>-0.031132</td>\n",
       "      <td>0.213532</td>\n",
       "      <td>-0.114554</td>\n",
       "      <td>1.000000</td>\n",
       "      <td>-0.014744</td>\n",
       "      <td>-0.154816</td>\n",
       "      <td>-0.026926</td>\n",
       "      <td>-0.049077</td>\n",
       "      <td>0.000741</td>\n",
       "      <td>0.993582</td>\n",
       "      <td>-0.014709</td>\n",
       "      <td>0.002904</td>\n",
       "    </tr>\n",
       "    <tr>\n",
       "      <th>long</th>\n",
       "      <td>-0.000610</td>\n",
       "      <td>-0.000603</td>\n",
       "      <td>-0.048429</td>\n",
       "      <td>-0.000348</td>\n",
       "      <td>-0.001406</td>\n",
       "      <td>-0.000735</td>\n",
       "      <td>0.050653</td>\n",
       "      <td>0.071712</td>\n",
       "      <td>-0.067092</td>\n",
       "      <td>0.132324</td>\n",
       "      <td>-0.909795</td>\n",
       "      <td>-0.014744</td>\n",
       "      <td>1.000000</td>\n",
       "      <td>-0.052359</td>\n",
       "      <td>-0.002293</td>\n",
       "      <td>0.030990</td>\n",
       "      <td>-0.000574</td>\n",
       "      <td>-0.014585</td>\n",
       "      <td>0.999118</td>\n",
       "      <td>0.001022</td>\n",
       "    </tr>\n",
       "    <tr>\n",
       "      <th>city_pop</th>\n",
       "      <td>-0.000880</td>\n",
       "      <td>-0.001622</td>\n",
       "      <td>-0.009118</td>\n",
       "      <td>0.001281</td>\n",
       "      <td>0.009318</td>\n",
       "      <td>0.004921</td>\n",
       "      <td>-0.028862</td>\n",
       "      <td>-0.012392</td>\n",
       "      <td>0.034824</td>\n",
       "      <td>-0.012633</td>\n",
       "      <td>0.077601</td>\n",
       "      <td>-0.154816</td>\n",
       "      <td>-0.052359</td>\n",
       "      <td>1.000000</td>\n",
       "      <td>-0.054328</td>\n",
       "      <td>0.088575</td>\n",
       "      <td>-0.001636</td>\n",
       "      <td>-0.153863</td>\n",
       "      <td>-0.052329</td>\n",
       "      <td>0.000325</td>\n",
       "    </tr>\n",
       "    <tr>\n",
       "      <th>job</th>\n",
       "      <td>0.000290</td>\n",
       "      <td>-0.000323</td>\n",
       "      <td>0.029930</td>\n",
       "      <td>0.000739</td>\n",
       "      <td>0.002993</td>\n",
       "      <td>-0.001858</td>\n",
       "      <td>-0.079708</td>\n",
       "      <td>-0.018591</td>\n",
       "      <td>0.021540</td>\n",
       "      <td>0.043112</td>\n",
       "      <td>-0.006690</td>\n",
       "      <td>-0.026926</td>\n",
       "      <td>-0.002293</td>\n",
       "      <td>-0.054328</td>\n",
       "      <td>1.000000</td>\n",
       "      <td>0.029195</td>\n",
       "      <td>-0.000297</td>\n",
       "      <td>-0.026781</td>\n",
       "      <td>-0.002269</td>\n",
       "      <td>-0.001388</td>\n",
       "    </tr>\n",
       "    <tr>\n",
       "      <th>dob</th>\n",
       "      <td>0.001711</td>\n",
       "      <td>0.004245</td>\n",
       "      <td>0.002213</td>\n",
       "      <td>0.005710</td>\n",
       "      <td>0.003809</td>\n",
       "      <td>0.011501</td>\n",
       "      <td>-0.012160</td>\n",
       "      <td>-0.042617</td>\n",
       "      <td>0.014806</td>\n",
       "      <td>0.053565</td>\n",
       "      <td>-0.012518</td>\n",
       "      <td>-0.049077</td>\n",
       "      <td>0.030990</td>\n",
       "      <td>0.088575</td>\n",
       "      <td>0.029195</td>\n",
       "      <td>1.000000</td>\n",
       "      <td>0.004193</td>\n",
       "      <td>-0.048697</td>\n",
       "      <td>0.030953</td>\n",
       "      <td>-0.011170</td>\n",
       "    </tr>\n",
       "    <tr>\n",
       "      <th>unix_time</th>\n",
       "      <td>0.174527</td>\n",
       "      <td>0.999542</td>\n",
       "      <td>0.000284</td>\n",
       "      <td>-0.000169</td>\n",
       "      <td>0.001043</td>\n",
       "      <td>-0.002411</td>\n",
       "      <td>-0.001387</td>\n",
       "      <td>-0.001480</td>\n",
       "      <td>0.000657</td>\n",
       "      <td>-0.000331</td>\n",
       "      <td>0.001017</td>\n",
       "      <td>0.000741</td>\n",
       "      <td>-0.000574</td>\n",
       "      <td>-0.001636</td>\n",
       "      <td>-0.000297</td>\n",
       "      <td>0.004193</td>\n",
       "      <td>1.000000</td>\n",
       "      <td>0.000696</td>\n",
       "      <td>-0.000571</td>\n",
       "      <td>-0.013329</td>\n",
       "    </tr>\n",
       "    <tr>\n",
       "      <th>merch_lat</th>\n",
       "      <td>0.000211</td>\n",
       "      <td>0.000689</td>\n",
       "      <td>-0.058415</td>\n",
       "      <td>-0.001362</td>\n",
       "      <td>-0.008417</td>\n",
       "      <td>-0.000613</td>\n",
       "      <td>0.042621</td>\n",
       "      <td>-0.012730</td>\n",
       "      <td>-0.030870</td>\n",
       "      <td>0.212190</td>\n",
       "      <td>-0.113934</td>\n",
       "      <td>0.993582</td>\n",
       "      <td>-0.014585</td>\n",
       "      <td>-0.153863</td>\n",
       "      <td>-0.026781</td>\n",
       "      <td>-0.048697</td>\n",
       "      <td>0.000696</td>\n",
       "      <td>1.000000</td>\n",
       "      <td>-0.014554</td>\n",
       "      <td>0.002778</td>\n",
       "    </tr>\n",
       "    <tr>\n",
       "      <th>merch_long</th>\n",
       "      <td>-0.000611</td>\n",
       "      <td>-0.000601</td>\n",
       "      <td>-0.048421</td>\n",
       "      <td>-0.000353</td>\n",
       "      <td>-0.001404</td>\n",
       "      <td>-0.000711</td>\n",
       "      <td>0.050606</td>\n",
       "      <td>0.071667</td>\n",
       "      <td>-0.067070</td>\n",
       "      <td>0.132217</td>\n",
       "      <td>-0.908981</td>\n",
       "      <td>-0.014709</td>\n",
       "      <td>0.999118</td>\n",
       "      <td>-0.052329</td>\n",
       "      <td>-0.002269</td>\n",
       "      <td>0.030953</td>\n",
       "      <td>-0.000571</td>\n",
       "      <td>-0.014554</td>\n",
       "      <td>1.000000</td>\n",
       "      <td>0.000999</td>\n",
       "    </tr>\n",
       "    <tr>\n",
       "      <th>is_fraud</th>\n",
       "      <td>0.000524</td>\n",
       "      <td>-0.013286</td>\n",
       "      <td>-0.001125</td>\n",
       "      <td>-0.000424</td>\n",
       "      <td>0.019278</td>\n",
       "      <td>0.209308</td>\n",
       "      <td>0.005844</td>\n",
       "      <td>0.000589</td>\n",
       "      <td>-0.001107</td>\n",
       "      <td>-0.000252</td>\n",
       "      <td>-0.002190</td>\n",
       "      <td>0.002904</td>\n",
       "      <td>0.001022</td>\n",
       "      <td>0.000325</td>\n",
       "      <td>-0.001388</td>\n",
       "      <td>-0.011170</td>\n",
       "      <td>-0.013329</td>\n",
       "      <td>0.002778</td>\n",
       "      <td>0.000999</td>\n",
       "      <td>1.000000</td>\n",
       "    </tr>\n",
       "  </tbody>\n",
       "</table>\n",
       "</div>"
      ],
      "text/plain": [
       "                       Unnamed: 0  trans_date_trans_time    cc_num  merchant  \\\n",
       "Unnamed: 0               1.000000               0.171902  0.000063 -0.001043   \n",
       "trans_date_trans_time    0.171902               1.000000  0.000294 -0.000139   \n",
       "cc_num                   0.000063               0.000294  1.000000  0.000437   \n",
       "merchant                -0.001043              -0.000139  0.000437  1.000000   \n",
       "category                -0.000130               0.001116  0.000327  0.031020   \n",
       "amt                      0.000949              -0.002413  0.001826 -0.002973   \n",
       "gender                  -0.000233              -0.001373  0.000333 -0.001247   \n",
       "street                  -0.000273              -0.001464  0.045937  0.000307   \n",
       "city                    -0.001140               0.000676  0.049230 -0.000731   \n",
       "state                    0.001233              -0.000358 -0.036305 -0.000266   \n",
       "zip                      0.000370               0.001048  0.041504  0.000692   \n",
       "lat                      0.000239               0.000729 -0.058744 -0.001450   \n",
       "long                    -0.000610              -0.000603 -0.048429 -0.000348   \n",
       "city_pop                -0.000880              -0.001622 -0.009118  0.001281   \n",
       "job                      0.000290              -0.000323  0.029930  0.000739   \n",
       "dob                      0.001711               0.004245  0.002213  0.005710   \n",
       "unix_time                0.174527               0.999542  0.000284 -0.000169   \n",
       "merch_lat                0.000211               0.000689 -0.058415 -0.001362   \n",
       "merch_long              -0.000611              -0.000601 -0.048421 -0.000353   \n",
       "is_fraud                 0.000524              -0.013286 -0.001125 -0.000424   \n",
       "\n",
       "                       category       amt    gender    street      city  \\\n",
       "Unnamed: 0            -0.000130  0.000949 -0.000233 -0.000273 -0.001140   \n",
       "trans_date_trans_time  0.001116 -0.002413 -0.001373 -0.001464  0.000676   \n",
       "cc_num                 0.000327  0.001826  0.000333  0.045937  0.049230   \n",
       "merchant               0.031020 -0.002973 -0.001247  0.000307 -0.000731   \n",
       "category               1.000000  0.029665 -0.028088  0.002361 -0.000045   \n",
       "amt                    0.029665  1.000000  0.000740  0.001296 -0.000240   \n",
       "gender                -0.028088  0.000740  1.000000  0.042402  0.016330   \n",
       "street                 0.002361  0.001296  0.042402  1.000000 -0.024595   \n",
       "city                  -0.000045 -0.000240  0.016330 -0.024595  1.000000   \n",
       "state                  0.000164  0.000433 -0.031085  0.014470 -0.042611   \n",
       "zip                    0.003013  0.001979 -0.066106 -0.054019  0.075212   \n",
       "lat                   -0.008526 -0.000670  0.042862 -0.012851 -0.031132   \n",
       "long                  -0.001406 -0.000735  0.050653  0.071712 -0.067092   \n",
       "city_pop               0.009318  0.004921 -0.028862 -0.012392  0.034824   \n",
       "job                    0.002993 -0.001858 -0.079708 -0.018591  0.021540   \n",
       "dob                    0.003809  0.011501 -0.012160 -0.042617  0.014806   \n",
       "unix_time              0.001043 -0.002411 -0.001387 -0.001480  0.000657   \n",
       "merch_lat             -0.008417 -0.000613  0.042621 -0.012730 -0.030870   \n",
       "merch_long            -0.001404 -0.000711  0.050606  0.071667 -0.067070   \n",
       "is_fraud               0.019278  0.209308  0.005844  0.000589 -0.001107   \n",
       "\n",
       "                          state       zip       lat      long  city_pop  \\\n",
       "Unnamed: 0             0.001233  0.000370  0.000239 -0.000610 -0.000880   \n",
       "trans_date_trans_time -0.000358  0.001048  0.000729 -0.000603 -0.001622   \n",
       "cc_num                -0.036305  0.041504 -0.058744 -0.048429 -0.009118   \n",
       "merchant              -0.000266  0.000692 -0.001450 -0.000348  0.001281   \n",
       "category               0.000164  0.003013 -0.008526 -0.001406  0.009318   \n",
       "amt                    0.000433  0.001979 -0.000670 -0.000735  0.004921   \n",
       "gender                -0.031085 -0.066106  0.042862  0.050653 -0.028862   \n",
       "street                 0.014470 -0.054019 -0.012851  0.071712 -0.012392   \n",
       "city                  -0.042611  0.075212 -0.031132 -0.067092  0.034824   \n",
       "state                  1.000000 -0.116563  0.213532  0.132324 -0.012633   \n",
       "zip                   -0.116563  1.000000 -0.114554 -0.909795  0.077601   \n",
       "lat                    0.213532 -0.114554  1.000000 -0.014744 -0.154816   \n",
       "long                   0.132324 -0.909795 -0.014744  1.000000 -0.052359   \n",
       "city_pop              -0.012633  0.077601 -0.154816 -0.052359  1.000000   \n",
       "job                    0.043112 -0.006690 -0.026926 -0.002293 -0.054328   \n",
       "dob                    0.053565 -0.012518 -0.049077  0.030990  0.088575   \n",
       "unix_time             -0.000331  0.001017  0.000741 -0.000574 -0.001636   \n",
       "merch_lat              0.212190 -0.113934  0.993582 -0.014585 -0.153863   \n",
       "merch_long             0.132217 -0.908981 -0.014709  0.999118 -0.052329   \n",
       "is_fraud              -0.000252 -0.002190  0.002904  0.001022  0.000325   \n",
       "\n",
       "                            job       dob  unix_time  merch_lat  merch_long  \\\n",
       "Unnamed: 0             0.000290  0.001711   0.174527   0.000211   -0.000611   \n",
       "trans_date_trans_time -0.000323  0.004245   0.999542   0.000689   -0.000601   \n",
       "cc_num                 0.029930  0.002213   0.000284  -0.058415   -0.048421   \n",
       "merchant               0.000739  0.005710  -0.000169  -0.001362   -0.000353   \n",
       "category               0.002993  0.003809   0.001043  -0.008417   -0.001404   \n",
       "amt                   -0.001858  0.011501  -0.002411  -0.000613   -0.000711   \n",
       "gender                -0.079708 -0.012160  -0.001387   0.042621    0.050606   \n",
       "street                -0.018591 -0.042617  -0.001480  -0.012730    0.071667   \n",
       "city                   0.021540  0.014806   0.000657  -0.030870   -0.067070   \n",
       "state                  0.043112  0.053565  -0.000331   0.212190    0.132217   \n",
       "zip                   -0.006690 -0.012518   0.001017  -0.113934   -0.908981   \n",
       "lat                   -0.026926 -0.049077   0.000741   0.993582   -0.014709   \n",
       "long                  -0.002293  0.030990  -0.000574  -0.014585    0.999118   \n",
       "city_pop              -0.054328  0.088575  -0.001636  -0.153863   -0.052329   \n",
       "job                    1.000000  0.029195  -0.000297  -0.026781   -0.002269   \n",
       "dob                    0.029195  1.000000   0.004193  -0.048697    0.030953   \n",
       "unix_time             -0.000297  0.004193   1.000000   0.000696   -0.000571   \n",
       "merch_lat             -0.026781 -0.048697   0.000696   1.000000   -0.014554   \n",
       "merch_long            -0.002269  0.030953  -0.000571  -0.014554    1.000000   \n",
       "is_fraud              -0.001388 -0.011170  -0.013329   0.002778    0.000999   \n",
       "\n",
       "                       is_fraud  \n",
       "Unnamed: 0             0.000524  \n",
       "trans_date_trans_time -0.013286  \n",
       "cc_num                -0.001125  \n",
       "merchant              -0.000424  \n",
       "category               0.019278  \n",
       "amt                    0.209308  \n",
       "gender                 0.005844  \n",
       "street                 0.000589  \n",
       "city                  -0.001107  \n",
       "state                 -0.000252  \n",
       "zip                   -0.002190  \n",
       "lat                    0.002904  \n",
       "long                   0.001022  \n",
       "city_pop               0.000325  \n",
       "job                   -0.001388  \n",
       "dob                   -0.011170  \n",
       "unix_time             -0.013329  \n",
       "merch_lat              0.002778  \n",
       "merch_long             0.000999  \n",
       "is_fraud               1.000000  "
      ]
     },
     "execution_count": 5,
     "metadata": {},
     "output_type": "execute_result"
    }
   ],
   "source": [
    "# converting object into numberical values\n",
    "df['merchant']=df['merchant'].astype('category').cat.codes\n",
    "df['category']=df['category'].astype('category').cat.codes\n",
    "df['gender']=df['gender'].astype('category').cat.codes\n",
    "df['street']=df['street'].astype('category').cat.codes\n",
    "df['city']=df['city'].astype('category').cat.codes\n",
    "df['job']=df['job'].astype('category').cat.codes\n",
    "df['state']=df['state'].astype('category').cat.codes\n",
    "df['dob']=df['dob'].astype('category').cat.codes\n",
    "df['trans_date_trans_time']=df['trans_date_trans_time'].astype('category').cat.codes\n",
    "df.corr()"
   ]
  },
  {
   "cell_type": "code",
   "execution_count": 6,
   "metadata": {
    "colab": {
     "base_uri": "https://localhost:8080/"
    },
    "executionInfo": {
     "elapsed": 8,
     "status": "ok",
     "timestamp": 1656705402510,
     "user": {
      "displayName": "ankit choudhary",
      "userId": "09081165373969276505"
     },
     "user_tz": -330
    },
    "id": "xz7fe2DYQ77D",
    "outputId": "22bbcf1b-b0e0-4497-9429-24fbd25946aa"
   },
   "outputs": [
    {
     "name": "stdout",
     "output_type": "stream",
     "text": [
      "<class 'pandas.core.frame.DataFrame'>\n",
      "RangeIndex: 1852394 entries, 0 to 1852393\n",
      "Data columns (total 9 columns):\n",
      " #   Column                 Dtype  \n",
      "---  ------                 -----  \n",
      " 0   trans_date_trans_time  int32  \n",
      " 1   merchant               int16  \n",
      " 2   category               int8   \n",
      " 3   amt                    float64\n",
      " 4   city_pop               int64  \n",
      " 5   job                    int16  \n",
      " 6   dob                    int16  \n",
      " 7   unix_time              int64  \n",
      " 8   is_fraud               int64  \n",
      "dtypes: float64(1), int16(3), int32(1), int64(3), int8(1)\n",
      "memory usage: 76.0 MB\n"
     ]
    }
   ],
   "source": [
    "df_edit=df.drop([\"Unnamed: 0\",\"first\",\"last\",\"trans_num\",\"cc_num\",\"gender\",\"street\",\"city\",\"state\",\"zip\",\"lat\",\"long\",\"merch_lat\",\"merch_long\"],axis=1)\n",
    "df_edit.info()"
   ]
  },
  {
   "cell_type": "code",
   "execution_count": 7,
   "metadata": {
    "id": "kpHBacv-BbgV"
   },
   "outputs": [],
   "source": [
    "# creating new data frame by randomly selecting in 0.75:0.25 ratio\n",
    "df_new = df_edit.sample(frac = 1).reset_index(drop=True)\n",
    "# df1_new=df_new.drop('is_fraud',axis='columns')\n",
    "# df2_new=df_new['is_fraud']\n",
    "# x_train,x_test,y_train,y_test= train_test_split(df1_new,df2_new, test_size=0.25, random_state=0)\n",
    "train,test= train_test_split(df_new ,test_size=0.25, random_state=0)"
   ]
  },
  {
   "cell_type": "code",
   "execution_count": 8,
   "metadata": {},
   "outputs": [],
   "source": [
    "x_test=test.drop('is_fraud',axis='columns')\n",
    "y_test=test['is_fraud']"
   ]
  },
  {
   "cell_type": "code",
   "execution_count": 9,
   "metadata": {},
   "outputs": [],
   "source": [
    "x_train=train.drop('is_fraud',axis='columns')\n",
    "y_train=train['is_fraud']\n"
   ]
  },
  {
   "cell_type": "code",
   "execution_count": 10,
   "metadata": {
    "colab": {
     "base_uri": "https://localhost:8080/",
     "height": 424
    },
    "executionInfo": {
     "elapsed": 14,
     "status": "ok",
     "timestamp": 1656705403790,
     "user": {
      "displayName": "ankit choudhary",
      "userId": "09081165373969276505"
     },
     "user_tz": -330
    },
    "id": "IXVUtVxrMKHu",
    "outputId": "f3647f68-159c-4fda-ff55-461577d13961"
   },
   "outputs": [
    {
     "data": {
      "text/html": [
       "<div>\n",
       "<style scoped>\n",
       "    .dataframe tbody tr th:only-of-type {\n",
       "        vertical-align: middle;\n",
       "    }\n",
       "\n",
       "    .dataframe tbody tr th {\n",
       "        vertical-align: top;\n",
       "    }\n",
       "\n",
       "    .dataframe thead th {\n",
       "        text-align: right;\n",
       "    }\n",
       "</style>\n",
       "<table border=\"1\" class=\"dataframe\">\n",
       "  <thead>\n",
       "    <tr style=\"text-align: right;\">\n",
       "      <th></th>\n",
       "      <th>trans_date_trans_time</th>\n",
       "      <th>merchant</th>\n",
       "      <th>category</th>\n",
       "      <th>amt</th>\n",
       "      <th>city_pop</th>\n",
       "      <th>job</th>\n",
       "      <th>dob</th>\n",
       "      <th>unix_time</th>\n",
       "    </tr>\n",
       "  </thead>\n",
       "  <tbody>\n",
       "    <tr>\n",
       "      <th>137248</th>\n",
       "      <td>126855</td>\n",
       "      <td>460</td>\n",
       "      <td>1</td>\n",
       "      <td>56.43</td>\n",
       "      <td>413574</td>\n",
       "      <td>456</td>\n",
       "      <td>494</td>\n",
       "      <td>1331497191</td>\n",
       "    </tr>\n",
       "    <tr>\n",
       "      <th>975641</th>\n",
       "      <td>1609327</td>\n",
       "      <td>543</td>\n",
       "      <td>4</td>\n",
       "      <td>120.08</td>\n",
       "      <td>343</td>\n",
       "      <td>131</td>\n",
       "      <td>506</td>\n",
       "      <td>1383119072</td>\n",
       "    </tr>\n",
       "    <tr>\n",
       "      <th>573813</th>\n",
       "      <td>900105</td>\n",
       "      <td>309</td>\n",
       "      <td>4</td>\n",
       "      <td>103.85</td>\n",
       "      <td>85</td>\n",
       "      <td>392</td>\n",
       "      <td>716</td>\n",
       "      <td>1356833185</td>\n",
       "    </tr>\n",
       "    <tr>\n",
       "      <th>1260711</th>\n",
       "      <td>903116</td>\n",
       "      <td>454</td>\n",
       "      <td>12</td>\n",
       "      <td>4.05</td>\n",
       "      <td>45100</td>\n",
       "      <td>22</td>\n",
       "      <td>883</td>\n",
       "      <td>1356881732</td>\n",
       "    </tr>\n",
       "    <tr>\n",
       "      <th>639328</th>\n",
       "      <td>1287700</td>\n",
       "      <td>310</td>\n",
       "      <td>12</td>\n",
       "      <td>8.80</td>\n",
       "      <td>149</td>\n",
       "      <td>431</td>\n",
       "      <td>619</td>\n",
       "      <td>1372177884</td>\n",
       "    </tr>\n",
       "    <tr>\n",
       "      <th>...</th>\n",
       "      <td>...</td>\n",
       "      <td>...</td>\n",
       "      <td>...</td>\n",
       "      <td>...</td>\n",
       "      <td>...</td>\n",
       "      <td>...</td>\n",
       "      <td>...</td>\n",
       "      <td>...</td>\n",
       "    </tr>\n",
       "    <tr>\n",
       "      <th>152315</th>\n",
       "      <td>623922</td>\n",
       "      <td>678</td>\n",
       "      <td>4</td>\n",
       "      <td>94.99</td>\n",
       "      <td>888</td>\n",
       "      <td>60</td>\n",
       "      <td>793</td>\n",
       "      <td>1348712412</td>\n",
       "    </tr>\n",
       "    <tr>\n",
       "      <th>963395</th>\n",
       "      <td>642384</td>\n",
       "      <td>382</td>\n",
       "      <td>10</td>\n",
       "      <td>61.76</td>\n",
       "      <td>13835</td>\n",
       "      <td>368</td>\n",
       "      <td>414</td>\n",
       "      <td>1349440481</td>\n",
       "    </tr>\n",
       "    <tr>\n",
       "      <th>117952</th>\n",
       "      <td>276465</td>\n",
       "      <td>129</td>\n",
       "      <td>1</td>\n",
       "      <td>74.58</td>\n",
       "      <td>276896</td>\n",
       "      <td>243</td>\n",
       "      <td>924</td>\n",
       "      <td>1337371706</td>\n",
       "    </tr>\n",
       "    <tr>\n",
       "      <th>1484405</th>\n",
       "      <td>1276980</td>\n",
       "      <td>301</td>\n",
       "      <td>8</td>\n",
       "      <td>1.72</td>\n",
       "      <td>42384</td>\n",
       "      <td>207</td>\n",
       "      <td>868</td>\n",
       "      <td>1371865585</td>\n",
       "    </tr>\n",
       "    <tr>\n",
       "      <th>305711</th>\n",
       "      <td>1246664</td>\n",
       "      <td>593</td>\n",
       "      <td>11</td>\n",
       "      <td>4.61</td>\n",
       "      <td>2523</td>\n",
       "      <td>215</td>\n",
       "      <td>792</td>\n",
       "      <td>1370888121</td>\n",
       "    </tr>\n",
       "  </tbody>\n",
       "</table>\n",
       "<p>1389295 rows × 8 columns</p>\n",
       "</div>"
      ],
      "text/plain": [
       "         trans_date_trans_time  merchant  category     amt  city_pop  job  \\\n",
       "137248                  126855       460         1   56.43    413574  456   \n",
       "975641                 1609327       543         4  120.08       343  131   \n",
       "573813                  900105       309         4  103.85        85  392   \n",
       "1260711                 903116       454        12    4.05     45100   22   \n",
       "639328                 1287700       310        12    8.80       149  431   \n",
       "...                        ...       ...       ...     ...       ...  ...   \n",
       "152315                  623922       678         4   94.99       888   60   \n",
       "963395                  642384       382        10   61.76     13835  368   \n",
       "117952                  276465       129         1   74.58    276896  243   \n",
       "1484405                1276980       301         8    1.72     42384  207   \n",
       "305711                 1246664       593        11    4.61      2523  215   \n",
       "\n",
       "         dob   unix_time  \n",
       "137248   494  1331497191  \n",
       "975641   506  1383119072  \n",
       "573813   716  1356833185  \n",
       "1260711  883  1356881732  \n",
       "639328   619  1372177884  \n",
       "...      ...         ...  \n",
       "152315   793  1348712412  \n",
       "963395   414  1349440481  \n",
       "117952   924  1337371706  \n",
       "1484405  868  1371865585  \n",
       "305711   792  1370888121  \n",
       "\n",
       "[1389295 rows x 8 columns]"
      ]
     },
     "execution_count": 10,
     "metadata": {},
     "output_type": "execute_result"
    }
   ],
   "source": [
    "x_train"
   ]
  },
  {
   "cell_type": "code",
   "execution_count": 11,
   "metadata": {
    "executionInfo": {
     "elapsed": 399,
     "status": "ok",
     "timestamp": 1656705713670,
     "user": {
      "displayName": "Ahmad Amaan",
      "userId": "12994616912705952411"
     },
     "user_tz": -330
    },
    "id": "xjAX16J7JCw-"
   },
   "outputs": [],
   "source": [
    "# Using SVM classifier\n",
    "from sklearn.svm import SVC\n",
    "model=SVC()"
   ]
  },
  {
   "cell_type": "code",
   "execution_count": null,
   "metadata": {},
   "outputs": [],
   "source": [
    "model.fit(x_train,y_train)"
   ]
  },
  {
   "cell_type": "code",
   "execution_count": null,
   "metadata": {},
   "outputs": [],
   "source": [
    "model.score(x_test,y_test)"
   ]
  },
  {
   "cell_type": "code",
   "execution_count": null,
   "metadata": {},
   "outputs": [],
   "source": [
    "#Using RandomForerstClassifier\n",
    "from sklearn.ensemble import RandomForestClassifier\n",
    "model=RandomForestClassifier()\n",
    "model.fit(x_train,y_train)"
   ]
  },
  {
   "cell_type": "code",
   "execution_count": null,
   "metadata": {},
   "outputs": [],
   "source": [
    "model.score(x_test,y_test)"
   ]
  },
  {
   "cell_type": "code",
   "execution_count": 11,
   "metadata": {},
   "outputs": [
    {
     "data": {
      "text/plain": [
       "(1389295, 8)"
      ]
     },
     "execution_count": 11,
     "metadata": {},
     "output_type": "execute_result"
    }
   ],
   "source": [
    "x_train.shape"
   ]
  },
  {
   "cell_type": "code",
   "execution_count": 12,
   "metadata": {},
   "outputs": [
    {
     "data": {
      "text/plain": [
       "0    1842743\n",
       "1       9651\n",
       "Name: is_fraud, dtype: int64"
      ]
     },
     "execution_count": 12,
     "metadata": {},
     "output_type": "execute_result"
    }
   ],
   "source": [
    "df[\"is_fraud\"].value_counts()"
   ]
  },
  {
   "cell_type": "code",
   "execution_count": 12,
   "metadata": {},
   "outputs": [
    {
     "data": {
      "text/plain": [
       "8"
      ]
     },
     "execution_count": 12,
     "metadata": {},
     "output_type": "execute_result"
    }
   ],
   "source": [
    "n_inputs=len(x_train.columns)\n",
    "n_inputs"
   ]
  },
  {
   "cell_type": "code",
   "execution_count": 11,
   "metadata": {},
   "outputs": [],
   "source": [
    "#Using ANN classifier\n",
    "import tensorflow\n",
    "from tensorflow.keras.layers import Dense\n",
    "from tensorflow.keras.models import Sequential"
   ]
  },
  {
   "cell_type": "code",
   "execution_count": 31,
   "metadata": {},
   "outputs": [
    {
     "name": "stdout",
     "output_type": "stream",
     "text": [
      "WARNING:tensorflow:Falling back from v2 loop because of error: Failed to find data adapter that can handle input: <class 'pandas.core.frame.DataFrame'>, <class 'NoneType'>\n"
     ]
    },
    {
     "name": "stderr",
     "output_type": "stream",
     "text": [
      "2022-07-05 00:19:49.295838: I tensorflow/core/platform/cpu_feature_guard.cc:145] This TensorFlow binary is optimized with Intel(R) MKL-DNN to use the following CPU instructions in performance critical operations:  SSE4.1 SSE4.2\n",
      "To enable them in non-MKL-DNN operations, rebuild TensorFlow with the appropriate compiler flags.\n",
      "2022-07-05 00:19:49.297765: I tensorflow/core/common_runtime/process_util.cc:115] Creating new thread pool with default inter op setting: 8. Tune using inter_op_parallelism_threads for best performance.\n"
     ]
    },
    {
     "name": "stdout",
     "output_type": "stream",
     "text": [
      "Train on 930827 samples, validate on 458468 samples\n",
      "Epoch 1/3\n",
      "930827/930827 [==============================] - 37s 40us/sample - loss: 15.2539 - accuracy: 0.0052 - val_loss: 15.2552 - val_accuracy: 0.0051\n",
      "Epoch 2/3\n",
      "930827/930827 [==============================] - 155s 166us/sample - loss: 15.2539 - accuracy: 0.0052 - val_loss: 15.2552 - val_accuracy: 0.0051\n",
      "Epoch 3/3\n",
      "930827/930827 [==============================] - 93s 100us/sample - loss: 15.2539 - accuracy: 0.0052 - val_loss: 15.2552 - val_accuracy: 0.0051\n"
     ]
    },
    {
     "data": {
      "text/plain": [
       "<tensorflow.python.keras.callbacks.History at 0x7ff4d933b350>"
      ]
     },
     "execution_count": 31,
     "metadata": {},
     "output_type": "execute_result"
    }
   ],
   "source": [
    "# define model\n",
    "model = Sequential()\n",
    "# define first hidden layer and visible layer\n",
    "model.add(Dense(50, input_dim=n_inputs, activation='relu', kernel_initializer='he_uniform'))\n",
    "# define output layer\n",
    "model.add(Dense(1, activation='sigmoid'))\n",
    "# define loss and optimizer\n",
    "model.compile(loss='binary_crossentropy', optimizer='adam',metrics=['accuracy'])\n",
    "model.fit(x_train,y_train,epochs=3,validation_split=0.33)"
   ]
  },
  {
   "cell_type": "code",
   "execution_count": 23,
   "metadata": {},
   "outputs": [
    {
     "name": "stdout",
     "output_type": "stream",
     "text": [
      "WARNING:tensorflow:Falling back from v2 loop because of error: Failed to find data adapter that can handle input: <class 'pandas.core.frame.DataFrame'>, <class 'NoneType'>\n"
     ]
    }
   ],
   "source": [
    "y_pred=model.predict(x_test)"
   ]
  },
  {
   "cell_type": "code",
   "execution_count": 24,
   "metadata": {},
   "outputs": [
    {
     "name": "stdout",
     "output_type": "stream",
     "text": [
      "              precision    recall  f1-score   support\n",
      "\n",
      "           0       0.99      1.00      1.00    460679\n",
      "           1       0.00      0.00      0.00      2420\n",
      "\n",
      "    accuracy                           0.99    463099\n",
      "   macro avg       0.50      0.50      0.50    463099\n",
      "weighted avg       0.99      0.99      0.99    463099\n",
      "\n"
     ]
    }
   ],
   "source": [
    "from sklearn.metrics import confusion_matrix,classification_report\n",
    "print(classification_report(y_test,y_pred))"
   ]
  },
  {
   "cell_type": "code",
   "execution_count": 23,
   "metadata": {},
   "outputs": [
    {
     "name": "stdout",
     "output_type": "stream",
     "text": [
      "WARNING:tensorflow:Falling back from v2 loop because of error: Failed to find data adapter that can handle input: <class 'pandas.core.frame.DataFrame'>, <class 'NoneType'>\n",
      "0.5\n"
     ]
    }
   ],
   "source": [
    "from sklearn.metrics import roc_auc_score\n",
    "print(roc_auc_score(y_test,y_pred))"
   ]
  },
  {
   "cell_type": "code",
   "execution_count": 13,
   "metadata": {},
   "outputs": [
    {
     "data": {
      "text/plain": [
       "((7205, 9), (1382090, 9))"
      ]
     },
     "execution_count": 13,
     "metadata": {},
     "output_type": "execute_result"
    }
   ],
   "source": [
    "#Undersampling\n",
    "df_1=train[train['is_fraud']==1]\n",
    "df_0=train[train['is_fraud']==0]\n",
    "df_1.shape,df_0.shape\n"
   ]
  },
  {
   "cell_type": "code",
   "execution_count": 14,
   "metadata": {},
   "outputs": [
    {
     "data": {
      "text/plain": [
       "(7205, 9)"
      ]
     },
     "execution_count": 14,
     "metadata": {},
     "output_type": "execute_result"
    }
   ],
   "source": [
    "x_train,y_train=train.is_fraud.value_counts()\n",
    "df_0_under=df_0.sample(y_train)\n",
    "df_0_under.shape"
   ]
  },
  {
   "cell_type": "code",
   "execution_count": 15,
   "metadata": {},
   "outputs": [
    {
     "data": {
      "text/html": [
       "<div>\n",
       "<style scoped>\n",
       "    .dataframe tbody tr th:only-of-type {\n",
       "        vertical-align: middle;\n",
       "    }\n",
       "\n",
       "    .dataframe tbody tr th {\n",
       "        vertical-align: top;\n",
       "    }\n",
       "\n",
       "    .dataframe thead th {\n",
       "        text-align: right;\n",
       "    }\n",
       "</style>\n",
       "<table border=\"1\" class=\"dataframe\">\n",
       "  <thead>\n",
       "    <tr style=\"text-align: right;\">\n",
       "      <th></th>\n",
       "      <th>trans_date_trans_time</th>\n",
       "      <th>merchant</th>\n",
       "      <th>category</th>\n",
       "      <th>amt</th>\n",
       "      <th>city_pop</th>\n",
       "      <th>job</th>\n",
       "      <th>dob</th>\n",
       "      <th>unix_time</th>\n",
       "      <th>is_fraud</th>\n",
       "    </tr>\n",
       "  </thead>\n",
       "  <tbody>\n",
       "    <tr>\n",
       "      <th>0</th>\n",
       "      <td>1234880</td>\n",
       "      <td>583</td>\n",
       "      <td>9</td>\n",
       "      <td>148.72</td>\n",
       "      <td>222785</td>\n",
       "      <td>495</td>\n",
       "      <td>212</td>\n",
       "      <td>1370580193</td>\n",
       "      <td>0</td>\n",
       "    </tr>\n",
       "    <tr>\n",
       "      <th>1</th>\n",
       "      <td>711818</td>\n",
       "      <td>326</td>\n",
       "      <td>5</td>\n",
       "      <td>38.73</td>\n",
       "      <td>60</td>\n",
       "      <td>302</td>\n",
       "      <td>90</td>\n",
       "      <td>1352048933</td>\n",
       "      <td>0</td>\n",
       "    </tr>\n",
       "    <tr>\n",
       "      <th>2</th>\n",
       "      <td>1804059</td>\n",
       "      <td>556</td>\n",
       "      <td>10</td>\n",
       "      <td>8.74</td>\n",
       "      <td>1512</td>\n",
       "      <td>94</td>\n",
       "      <td>977</td>\n",
       "      <td>1388237485</td>\n",
       "      <td>0</td>\n",
       "    </tr>\n",
       "    <tr>\n",
       "      <th>3</th>\n",
       "      <td>345781</td>\n",
       "      <td>428</td>\n",
       "      <td>4</td>\n",
       "      <td>298.67</td>\n",
       "      <td>297</td>\n",
       "      <td>10</td>\n",
       "      <td>307</td>\n",
       "      <td>1339629365</td>\n",
       "      <td>1</td>\n",
       "    </tr>\n",
       "    <tr>\n",
       "      <th>4</th>\n",
       "      <td>1624392</td>\n",
       "      <td>430</td>\n",
       "      <td>11</td>\n",
       "      <td>823.34</td>\n",
       "      <td>169</td>\n",
       "      <td>272</td>\n",
       "      <td>181</td>\n",
       "      <td>1383690115</td>\n",
       "      <td>1</td>\n",
       "    </tr>\n",
       "    <tr>\n",
       "      <th>...</th>\n",
       "      <td>...</td>\n",
       "      <td>...</td>\n",
       "      <td>...</td>\n",
       "      <td>...</td>\n",
       "      <td>...</td>\n",
       "      <td>...</td>\n",
       "      <td>...</td>\n",
       "      <td>...</td>\n",
       "      <td>...</td>\n",
       "    </tr>\n",
       "    <tr>\n",
       "      <th>14405</th>\n",
       "      <td>666166</td>\n",
       "      <td>157</td>\n",
       "      <td>2</td>\n",
       "      <td>66.73</td>\n",
       "      <td>1383</td>\n",
       "      <td>278</td>\n",
       "      <td>398</td>\n",
       "      <td>1350284957</td>\n",
       "      <td>0</td>\n",
       "    </tr>\n",
       "    <tr>\n",
       "      <th>14406</th>\n",
       "      <td>101096</td>\n",
       "      <td>524</td>\n",
       "      <td>8</td>\n",
       "      <td>862.09</td>\n",
       "      <td>365</td>\n",
       "      <td>432</td>\n",
       "      <td>471</td>\n",
       "      <td>1330472643</td>\n",
       "      <td>1</td>\n",
       "    </tr>\n",
       "    <tr>\n",
       "      <th>14407</th>\n",
       "      <td>643759</td>\n",
       "      <td>48</td>\n",
       "      <td>12</td>\n",
       "      <td>816.01</td>\n",
       "      <td>369</td>\n",
       "      <td>287</td>\n",
       "      <td>87</td>\n",
       "      <td>1349475987</td>\n",
       "      <td>1</td>\n",
       "    </tr>\n",
       "    <tr>\n",
       "      <th>14408</th>\n",
       "      <td>1388409</td>\n",
       "      <td>610</td>\n",
       "      <td>12</td>\n",
       "      <td>914.18</td>\n",
       "      <td>92043</td>\n",
       "      <td>85</td>\n",
       "      <td>292</td>\n",
       "      <td>1375310803</td>\n",
       "      <td>1</td>\n",
       "    </tr>\n",
       "    <tr>\n",
       "      <th>14409</th>\n",
       "      <td>1622801</td>\n",
       "      <td>386</td>\n",
       "      <td>11</td>\n",
       "      <td>1042.48</td>\n",
       "      <td>1360</td>\n",
       "      <td>315</td>\n",
       "      <td>718</td>\n",
       "      <td>1383605934</td>\n",
       "      <td>1</td>\n",
       "    </tr>\n",
       "  </tbody>\n",
       "</table>\n",
       "<p>14410 rows × 9 columns</p>\n",
       "</div>"
      ],
      "text/plain": [
       "       trans_date_trans_time  merchant  category      amt  city_pop  job  dob  \\\n",
       "0                    1234880       583         9   148.72    222785  495  212   \n",
       "1                     711818       326         5    38.73        60  302   90   \n",
       "2                    1804059       556        10     8.74      1512   94  977   \n",
       "3                     345781       428         4   298.67       297   10  307   \n",
       "4                    1624392       430        11   823.34       169  272  181   \n",
       "...                      ...       ...       ...      ...       ...  ...  ...   \n",
       "14405                 666166       157         2    66.73      1383  278  398   \n",
       "14406                 101096       524         8   862.09       365  432  471   \n",
       "14407                 643759        48        12   816.01       369  287   87   \n",
       "14408                1388409       610        12   914.18     92043   85  292   \n",
       "14409                1622801       386        11  1042.48      1360  315  718   \n",
       "\n",
       "        unix_time  is_fraud  \n",
       "0      1370580193         0  \n",
       "1      1352048933         0  \n",
       "2      1388237485         0  \n",
       "3      1339629365         1  \n",
       "4      1383690115         1  \n",
       "...           ...       ...  \n",
       "14405  1350284957         0  \n",
       "14406  1330472643         1  \n",
       "14407  1349475987         1  \n",
       "14408  1375310803         1  \n",
       "14409  1383605934         1  \n",
       "\n",
       "[14410 rows x 9 columns]"
      ]
     },
     "execution_count": 15,
     "metadata": {},
     "output_type": "execute_result"
    }
   ],
   "source": [
    "df_under=pd.concat([df_0_under,df_1],axis=0)\n",
    "df_under=df_under.sample(frac=1).reset_index(drop=True)\n",
    "df_under"
   ]
  },
  {
   "cell_type": "code",
   "execution_count": 16,
   "metadata": {},
   "outputs": [],
   "source": [
    "x_train=df_under.drop('is_fraud',axis=1)\n",
    "y_train=df_under['is_fraud']\n"
   ]
  },
  {
   "cell_type": "code",
   "execution_count": 17,
   "metadata": {},
   "outputs": [
    {
     "data": {
      "text/plain": [
       "0    7205\n",
       "1    7205\n",
       "Name: is_fraud, dtype: int64"
      ]
     },
     "execution_count": 17,
     "metadata": {},
     "output_type": "execute_result"
    }
   ],
   "source": [
    "y_train.value_counts()"
   ]
  },
  {
   "cell_type": "code",
   "execution_count": 22,
   "metadata": {},
   "outputs": [
    {
     "data": {
      "text/html": [
       "<style>#sk-container-id-1 {color: black;background-color: white;}#sk-container-id-1 pre{padding: 0;}#sk-container-id-1 div.sk-toggleable {background-color: white;}#sk-container-id-1 label.sk-toggleable__label {cursor: pointer;display: block;width: 100%;margin-bottom: 0;padding: 0.3em;box-sizing: border-box;text-align: center;}#sk-container-id-1 label.sk-toggleable__label-arrow:before {content: \"▸\";float: left;margin-right: 0.25em;color: #696969;}#sk-container-id-1 label.sk-toggleable__label-arrow:hover:before {color: black;}#sk-container-id-1 div.sk-estimator:hover label.sk-toggleable__label-arrow:before {color: black;}#sk-container-id-1 div.sk-toggleable__content {max-height: 0;max-width: 0;overflow: hidden;text-align: left;background-color: #f0f8ff;}#sk-container-id-1 div.sk-toggleable__content pre {margin: 0.2em;color: black;border-radius: 0.25em;background-color: #f0f8ff;}#sk-container-id-1 input.sk-toggleable__control:checked~div.sk-toggleable__content {max-height: 200px;max-width: 100%;overflow: auto;}#sk-container-id-1 input.sk-toggleable__control:checked~label.sk-toggleable__label-arrow:before {content: \"▾\";}#sk-container-id-1 div.sk-estimator input.sk-toggleable__control:checked~label.sk-toggleable__label {background-color: #d4ebff;}#sk-container-id-1 div.sk-label input.sk-toggleable__control:checked~label.sk-toggleable__label {background-color: #d4ebff;}#sk-container-id-1 input.sk-hidden--visually {border: 0;clip: rect(1px 1px 1px 1px);clip: rect(1px, 1px, 1px, 1px);height: 1px;margin: -1px;overflow: hidden;padding: 0;position: absolute;width: 1px;}#sk-container-id-1 div.sk-estimator {font-family: monospace;background-color: #f0f8ff;border: 1px dotted black;border-radius: 0.25em;box-sizing: border-box;margin-bottom: 0.5em;}#sk-container-id-1 div.sk-estimator:hover {background-color: #d4ebff;}#sk-container-id-1 div.sk-parallel-item::after {content: \"\";width: 100%;border-bottom: 1px solid gray;flex-grow: 1;}#sk-container-id-1 div.sk-label:hover label.sk-toggleable__label {background-color: #d4ebff;}#sk-container-id-1 div.sk-serial::before {content: \"\";position: absolute;border-left: 1px solid gray;box-sizing: border-box;top: 0;bottom: 0;left: 50%;z-index: 0;}#sk-container-id-1 div.sk-serial {display: flex;flex-direction: column;align-items: center;background-color: white;padding-right: 0.2em;padding-left: 0.2em;position: relative;}#sk-container-id-1 div.sk-item {position: relative;z-index: 1;}#sk-container-id-1 div.sk-parallel {display: flex;align-items: stretch;justify-content: center;background-color: white;position: relative;}#sk-container-id-1 div.sk-item::before, #sk-container-id-1 div.sk-parallel-item::before {content: \"\";position: absolute;border-left: 1px solid gray;box-sizing: border-box;top: 0;bottom: 0;left: 50%;z-index: -1;}#sk-container-id-1 div.sk-parallel-item {display: flex;flex-direction: column;z-index: 1;position: relative;background-color: white;}#sk-container-id-1 div.sk-parallel-item:first-child::after {align-self: flex-end;width: 50%;}#sk-container-id-1 div.sk-parallel-item:last-child::after {align-self: flex-start;width: 50%;}#sk-container-id-1 div.sk-parallel-item:only-child::after {width: 0;}#sk-container-id-1 div.sk-dashed-wrapped {border: 1px dashed gray;margin: 0 0.4em 0.5em 0.4em;box-sizing: border-box;padding-bottom: 0.4em;background-color: white;}#sk-container-id-1 div.sk-label label {font-family: monospace;font-weight: bold;display: inline-block;line-height: 1.2em;}#sk-container-id-1 div.sk-label-container {text-align: center;}#sk-container-id-1 div.sk-container {/* jupyter's `normalize.less` sets `[hidden] { display: none; }` but bootstrap.min.css set `[hidden] { display: none !important; }` so we also need the `!important` here to be able to override the default hidden behavior on the sphinx rendered scikit-learn.org. See: https://github.com/scikit-learn/scikit-learn/issues/21755 */display: inline-block !important;position: relative;}#sk-container-id-1 div.sk-text-repr-fallback {display: none;}</style><div id=\"sk-container-id-1\" class=\"sk-top-container\"><div class=\"sk-text-repr-fallback\"><pre>SVC()</pre><b>In a Jupyter environment, please rerun this cell to show the HTML representation or trust the notebook. <br />On GitHub, the HTML representation is unable to render, please try loading this page with nbviewer.org.</b></div><div class=\"sk-container\" hidden><div class=\"sk-item\"><div class=\"sk-estimator sk-toggleable\"><input class=\"sk-toggleable__control sk-hidden--visually\" id=\"sk-estimator-id-1\" type=\"checkbox\" checked><label for=\"sk-estimator-id-1\" class=\"sk-toggleable__label sk-toggleable__label-arrow\">SVC</label><div class=\"sk-toggleable__content\"><pre>SVC()</pre></div></div></div></div></div>"
      ],
      "text/plain": [
       "SVC()"
      ]
     },
     "execution_count": 22,
     "metadata": {},
     "output_type": "execute_result"
    }
   ],
   "source": [
    "# Using SVM classifier\n",
    "from sklearn.svm import SVC\n",
    "model=SVC()\n",
    "model.fit(x_train,y_train)"
   ]
  },
  {
   "cell_type": "code",
   "execution_count": 23,
   "metadata": {
    "scrolled": true
   },
   "outputs": [
    {
     "data": {
      "text/plain": [
       "0.5021107797684728"
      ]
     },
     "execution_count": 23,
     "metadata": {},
     "output_type": "execute_result"
    }
   ],
   "source": [
    "model.score(x_test,y_test)"
   ]
  },
  {
   "cell_type": "code",
   "execution_count": 18,
   "metadata": {},
   "outputs": [],
   "source": [
    "#Using RandomForerstClassifier\n",
    "from sklearn.ensemble import RandomForestClassifier\n",
    "from sklearn.feature_selection import SelectFromModel\n",
    "model = RandomForestClassifier(max_depth=5, random_state=42, n_estimators = 300).fit(x_train, y_train)"
   ]
  },
  {
   "cell_type": "code",
   "execution_count": 19,
   "metadata": {},
   "outputs": [
    {
     "data": {
      "text/plain": [
       "0.9741459169637594"
      ]
     },
     "execution_count": 19,
     "metadata": {},
     "output_type": "execute_result"
    }
   ],
   "source": [
    "model.score(x_test,y_test)"
   ]
  },
  {
   "cell_type": "code",
   "execution_count": 20,
   "metadata": {},
   "outputs": [
    {
     "data": {
      "text/plain": [
       "array([0.02731003, 0.00416327, 0.1047252 , 0.80555274, 0.00625337,\n",
       "       0.00616265, 0.01996377, 0.02586897])"
      ]
     },
     "execution_count": 20,
     "metadata": {},
     "output_type": "execute_result"
    }
   ],
   "source": [
    "model.feature_importances_"
   ]
  },
  {
   "cell_type": "code",
   "execution_count": 21,
   "metadata": {},
   "outputs": [
    {
     "data": {
      "text/html": [
       "<div>\n",
       "<style scoped>\n",
       "    .dataframe tbody tr th:only-of-type {\n",
       "        vertical-align: middle;\n",
       "    }\n",
       "\n",
       "    .dataframe tbody tr th {\n",
       "        vertical-align: top;\n",
       "    }\n",
       "\n",
       "    .dataframe thead th {\n",
       "        text-align: right;\n",
       "    }\n",
       "</style>\n",
       "<table border=\"1\" class=\"dataframe\">\n",
       "  <thead>\n",
       "    <tr style=\"text-align: right;\">\n",
       "      <th></th>\n",
       "      <th>importance</th>\n",
       "    </tr>\n",
       "  </thead>\n",
       "  <tbody>\n",
       "    <tr>\n",
       "      <th>3</th>\n",
       "      <td>80.555274</td>\n",
       "    </tr>\n",
       "    <tr>\n",
       "      <th>2</th>\n",
       "      <td>10.472520</td>\n",
       "    </tr>\n",
       "    <tr>\n",
       "      <th>0</th>\n",
       "      <td>2.731003</td>\n",
       "    </tr>\n",
       "    <tr>\n",
       "      <th>7</th>\n",
       "      <td>2.586897</td>\n",
       "    </tr>\n",
       "    <tr>\n",
       "      <th>6</th>\n",
       "      <td>1.996377</td>\n",
       "    </tr>\n",
       "    <tr>\n",
       "      <th>4</th>\n",
       "      <td>0.625337</td>\n",
       "    </tr>\n",
       "    <tr>\n",
       "      <th>5</th>\n",
       "      <td>0.616265</td>\n",
       "    </tr>\n",
       "    <tr>\n",
       "      <th>1</th>\n",
       "      <td>0.416327</td>\n",
       "    </tr>\n",
       "  </tbody>\n",
       "</table>\n",
       "</div>"
      ],
      "text/plain": [
       "   importance\n",
       "3   80.555274\n",
       "2   10.472520\n",
       "0    2.731003\n",
       "7    2.586897\n",
       "6    1.996377\n",
       "4    0.625337\n",
       "5    0.616265\n",
       "1    0.416327"
      ]
     },
     "execution_count": 21,
     "metadata": {},
     "output_type": "execute_result"
    }
   ],
   "source": [
    "important_features = pd.DataFrame((model.feature_importances_*100), columns=['importance']).sort_values('importance', ascending=False)\n",
    "important_features"
   ]
  },
  {
   "cell_type": "code",
   "execution_count": 92,
   "metadata": {},
   "outputs": [
    {
     "data": {
      "text/plain": [
       "Text(33.0, 0.5, 'Truth')"
      ]
     },
     "execution_count": 92,
     "metadata": {},
     "output_type": "execute_result"
    },
    {
     "data": {
      "image/png": "[encoded data removed]",
      "text/plain": [
       "<Figure size 432x288 with 2 Axes>"
      ]
     },
     "metadata": {
      "needs_background": "light"
     },
     "output_type": "display_data"
    }
   ],
   "source": [
    "y_predicted=model.predict(x_test)\n",
    "from sklearn.metrics import confusion_matrix\n",
    "import seaborn as sn\n",
    "\n",
    "cm=confusion_matrix(y_test,y_predicted)\n",
    "sn.heatmap(cm,annot=True)\n",
    "plt.xlabel('Predicted')\n",
    "plt.ylabel('Truth')"
   ]
  },
  {
   "cell_type": "code",
   "execution_count": 93,
   "metadata": {},
   "outputs": [
    {
     "name": "stdout",
     "output_type": "stream",
     "text": [
      "              precision    recall  f1-score   support\n",
      "\n",
      "           0       1.00      0.97      0.98    460672\n",
      "           1       0.14      0.95      0.25      2427\n",
      "\n",
      "    accuracy                           0.97    463099\n",
      "   macro avg       0.57      0.96      0.62    463099\n",
      "weighted avg       1.00      0.97      0.98    463099\n",
      "\n"
     ]
    }
   ],
   "source": [
    "from sklearn.metrics import confusion_matrix,classification_report\n",
    "print(classification_report(y_test,y_predicted))"
   ]
  },
  {
   "cell_type": "code",
   "execution_count": 94,
   "metadata": {},
   "outputs": [],
   "source": [
    "#Using ANN classifier\n",
    "import tensorflow\n",
    "from tensorflow.keras.layers import Dense\n",
    "from tensorflow.keras.models import Sequential"
   ]
  },
  {
   "cell_type": "code",
   "execution_count": 95,
   "metadata": {},
   "outputs": [
    {
     "name": "stdout",
     "output_type": "stream",
     "text": [
      "Epoch 1/3\n",
      "7224/7224 [==============================] - 12s 2ms/step - loss: 1803651383296000.0000 - accuracy: 0.4999\n",
      "Epoch 2/3\n",
      "7224/7224 [==============================] - 11s 2ms/step - loss: 0.6932 - accuracy: 0.5036\n",
      "Epoch 3/3\n",
      "7224/7224 [==============================] - 11s 2ms/step - loss: 0.6933 - accuracy: 0.4963\n"
     ]
    },
    {
     "data": {
      "text/plain": [
       "<keras.callbacks.History at 0x2125b31c730>"
      ]
     },
     "execution_count": 95,
     "metadata": {},
     "output_type": "execute_result"
    }
   ],
   "source": [
    "# define model\n",
    "model = Sequential()\n",
    "# define first hidden layer and visible layer\n",
    "model.add(Dense(64, input_dim=n_inputs, activation='relu', kernel_initializer='he_uniform'))\n",
    "model.add(Dense(32, input_dim=n_inputs, activation='relu', kernel_initializer='he_uniform'))\n",
    "model.add(Dense(16, input_dim=n_inputs, activation='relu', kernel_initializer='he_uniform'))\n",
    "# define output layer\n",
    "model.add(Dense(1, activation='sigmoid'))\n",
    "# define loss and optimizer\n",
    "model.compile(loss='binary_crossentropy', optimizer='adam',metrics=['accuracy'])\n",
    "model.fit(x_train,y_train,epochs=3,batch_size=2)"
   ]
  },
  {
   "cell_type": "code",
   "execution_count": 96,
   "metadata": {},
   "outputs": [
    {
     "name": "stdout",
     "output_type": "stream",
     "text": [
      "14472/14472 [==============================] - 18s 1ms/step\n"
     ]
    },
    {
     "data": {
      "text/plain": [
       "array([0, 0, 0, ..., 0, 0, 0], dtype=int64)"
      ]
     },
     "execution_count": 96,
     "metadata": {},
     "output_type": "execute_result"
    }
   ],
   "source": [
    "y_pred=np.argmax(model.predict(x_test),axis=1)\n",
    "y_pred"
   ]
  },
  {
   "cell_type": "code",
   "execution_count": 97,
   "metadata": {},
   "outputs": [
    {
     "name": "stdout",
     "output_type": "stream",
     "text": [
      "              precision    recall  f1-score   support\n",
      "\n",
      "           0       0.99      1.00      1.00    460672\n",
      "           1       0.00      0.00      0.00      2427\n",
      "\n",
      "    accuracy                           0.99    463099\n",
      "   macro avg       0.50      0.50      0.50    463099\n",
      "weighted avg       0.99      0.99      0.99    463099\n",
      "\n"
     ]
    }
   ],
   "source": [
    "from sklearn.metrics import confusion_matrix,classification_report\n",
    "print(classification_report(y_test,y_pred))"
   ]
  },
  {
   "cell_type": "code",
   "execution_count": 16,
   "metadata": {},
   "outputs": [],
   "source": [
    "#Oversampling using SMOTE\n",
    "X = df_edit.drop('is_fraud',axis='columns')\n",
    "y = df_edit['is_fraud']"
   ]
  },
  {
   "cell_type": "code",
   "execution_count": 17,
   "metadata": {},
   "outputs": [
    {
     "data": {
      "text/plain": [
       "0    1842743\n",
       "1    1842743\n",
       "Name: is_fraud, dtype: int64"
      ]
     },
     "execution_count": 17,
     "metadata": {},
     "output_type": "execute_result"
    }
   ],
   "source": [
    "from imblearn.over_sampling import SMOTE\n",
    "smote = SMOTE(sampling_strategy='minority')\n",
    "X_sm, y_sm = smote.fit_sample(X, y)\n",
    "y_sm.value_counts()"
   ]
  },
  {
   "cell_type": "code",
   "execution_count": 18,
   "metadata": {},
   "outputs": [],
   "source": [
    "from sklearn.model_selection import train_test_split\n",
    "x_train, x_test, y_train, y_test = train_test_split(X_sm, y_sm, test_size=0.2, random_state=15, stratify=y_sm)"
   ]
  },
  {
   "cell_type": "code",
   "execution_count": 21,
   "metadata": {},
   "outputs": [
    {
     "data": {
      "text/plain": [
       "1    1474194\n",
       "0    1474194\n",
       "Name: is_fraud, dtype: int64"
      ]
     },
     "execution_count": 21,
     "metadata": {},
     "output_type": "execute_result"
    }
   ],
   "source": [
    "y_train.value_counts()"
   ]
  },
  {
   "cell_type": "code",
   "execution_count": 22,
   "metadata": {},
   "outputs": [],
   "source": [
    "#Using ANN classifier\n",
    "import tensorflow\n",
    "from tensorflow.keras.layers import Dense\n",
    "from tensorflow.keras.models import Sequential"
   ]
  },
  {
   "cell_type": "code",
   "execution_count": 38,
   "metadata": {},
   "outputs": [
    {
     "name": "stdout",
     "output_type": "stream",
     "text": [
      "WARNING:tensorflow:Falling back from v2 loop because of error: Failed to find data adapter that can handle input: <class 'pandas.core.frame.DataFrame'>, <class 'NoneType'>\n",
      "Train on 2948388 samples\n",
      "Epoch 1/3\n",
      "2948388/2948388 [==============================] - 98s 33us/sample - loss: 7.6666 - accuracy: 0.5000\n",
      "Epoch 2/3\n",
      "2948388/2948388 [==============================] - 367s 124us/sample - loss: 7.6666 - accuracy: 0.5000\n",
      "Epoch 3/3\n",
      "2948388/2948388 [==============================] - 1414s 479us/sample - loss: 7.6666 - accuracy: 0.5000\n"
     ]
    },
    {
     "data": {
      "text/plain": [
       "<tensorflow.python.keras.callbacks.History at 0x7f95331c0ad0>"
      ]
     },
     "execution_count": 38,
     "metadata": {},
     "output_type": "execute_result"
    }
   ],
   "source": [
    "# define model\n",
    "model = Sequential()\n",
    "# define first hidden layer and visible layer\n",
    "model.add(Dense(50, input_dim=n_inputs, activation='relu', kernel_initializer='he_uniform'))\n",
    "# define output layer\n",
    "model.add(Dense(1, activation='sigmoid'))\n",
    "# define loss and optimizer\n",
    "model.compile(loss='binary_crossentropy', optimizer='adam',metrics=['accuracy'])\n",
    "model.fit(x_train,y_train,epochs=3)"
   ]
  },
  {
   "cell_type": "code",
   "execution_count": 39,
   "metadata": {},
   "outputs": [
    {
     "name": "stdout",
     "output_type": "stream",
     "text": [
      "WARNING:tensorflow:Falling back from v2 loop because of error: Failed to find data adapter that can handle input: <class 'pandas.core.frame.DataFrame'>, <class 'NoneType'>\n"
     ]
    }
   ],
   "source": [
    "y_pred=model.predict(x_test)"
   ]
  },
  {
   "cell_type": "code",
   "execution_count": 41,
   "metadata": {},
   "outputs": [
    {
     "name": "stdout",
     "output_type": "stream",
     "text": [
      "              precision    recall  f1-score   support\n",
      "\n",
      "           0       0.00      0.00      0.00    368549\n",
      "           1       0.50      1.00      0.67    368549\n",
      "\n",
      "    accuracy                           0.50    737098\n",
      "   macro avg       0.25      0.50      0.33    737098\n",
      "weighted avg       0.25      0.50      0.33    737098\n",
      "\n"
     ]
    }
   ],
   "source": [
    "from sklearn.metrics import confusion_matrix,classification_report\n",
    "print(classification_report(y_test,y_pred))"
   ]
  },
  {
   "cell_type": "code",
   "execution_count": 42,
   "metadata": {},
   "outputs": [
    {
     "data": {
      "text/plain": [
       "RandomForestClassifier()"
      ]
     },
     "execution_count": 42,
     "metadata": {},
     "output_type": "execute_result"
    }
   ],
   "source": [
    "#Using RandomForerstClassifier\n",
    "from sklearn.ensemble import RandomForestClassifier\n",
    "model=RandomForestClassifier()\n",
    "model.fit(x_train,y_train)"
   ]
  },
  {
   "cell_type": "code",
   "execution_count": 43,
   "metadata": {},
   "outputs": [
    {
     "data": {
      "text/plain": [
       "0.9971740528396495"
      ]
     },
     "execution_count": 43,
     "metadata": {},
     "output_type": "execute_result"
    }
   ],
   "source": [
    "model.score(x_test,y_test)"
   ]
  },
  {
   "cell_type": "code",
   "execution_count": null,
   "metadata": {},
   "outputs": [],
   "source": [
    "# Using SVM classifier\n",
    "from sklearn.svm import SVC\n",
    "model=SVC()\n",
    "model.fit(x_train,y_train)"
   ]
  },
  {
   "cell_type": "code",
   "execution_count": null,
   "metadata": {},
   "outputs": [],
   "source": [
    "model.score(x_test,y_test)"
   ]
  }
 ],
 "metadata": {
  "colab": {
   "collapsed_sections": [],
   "name": "Summer_Project.ipynb",
   "provenance": [
    {
     "file_id": "1HDQ6fUCPyh9Kx1wx0UgRZ8_lauuZqtI1",
     "timestamp": 1656703563093
    }
   ]
  },
  "kernelspec": {
   "display_name": "Python 3 (ipykernel)",
   "language": "python",
   "name": "python3"
  },
  "language_info": {
   "codemirror_mode": {
    "name": "ipython",
    "version": 3
   },
   "file_extension": ".py",
   "mimetype": "text/x-python",
   "name": "python",
   "nbconvert_exporter": "python",
   "pygments_lexer": "ipython3",
   "version": "3.9.9"
  }
 },
 "nbformat": 4,
 "nbformat_minor": 1
}
